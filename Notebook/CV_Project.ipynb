{
  "nbformat": 4,
  "nbformat_minor": 0,
  "metadata": {
    "colab": {
      "name": "CV_Project.ipynb",
      "provenance": [],
      "collapsed_sections": [],
      "toc_visible": true
    },
    "kernelspec": {
      "name": "python3",
      "display_name": "Python 3"
    },
    "accelerator": "GPU"
  },
  "cells": [
    {
      "cell_type": "markdown",
      "metadata": {
        "id": "glmBQOm2aebu",
        "colab_type": "text"
      },
      "source": [
        "# <center>**Computer Vision Project**</center>\n",
        "## <center><i>**Skin Cancer Detection**</i></center>\n",
        "---\n",
        "### <center>Submitted by:<center>\n",
        "###<center>1. Mutahhar bin Muzaffar<br>&nbsp; &nbsp;&nbsp;FA17-BCS-058</center>\n",
        "###<center>2. Sher Alam<br>&nbsp; &nbsp;&nbsp;FA17-BCS-082</center>"
      ]
    },
    {
      "cell_type": "markdown",
      "metadata": {
        "id": "Bs2AlM-fkfD_",
        "colab_type": "text"
      },
      "source": [
        "# Importing Libraries"
      ]
    },
    {
      "cell_type": "code",
      "metadata": {
        "id": "RoHNo9rfkeeB",
        "colab_type": "code",
        "colab": {
          "base_uri": "https://localhost:8080/",
          "height": 36
        },
        "outputId": "b009db03-c814-4b59-899f-5048794a4c5a"
      },
      "source": [
        "import pandas as pd\n",
        "import numpy as np\n",
        "from sklearn.model_selection import train_test_split\n",
        "import keras\n",
        "from keras.utils.np_utils import to_categorical\n",
        "from keras.layers import Conv2D,MaxPooling2D,Dense,BatchNormalization,ZeroPadding2D,Flatten,Input,Dropout,Activation,UpSampling2D,GlobalMaxPooling2D\n",
        "from keras.models import Model\n",
        "from keras.optimizers import Adam\n",
        "from keras.regularizers import l2\n",
        "from keras.applications import VGG16\n",
        "from keras.preprocessing.image import ImageDataGenerator\n",
        "import matplotlib.pyplot as plt\n",
        "\n"
      ],
      "execution_count": 2,
      "outputs": [
        {
          "output_type": "stream",
          "text": [
            "Using TensorFlow backend.\n"
          ],
          "name": "stderr"
        }
      ]
    },
    {
      "cell_type": "code",
      "metadata": {
        "id": "BkNs_Pvrw05b",
        "colab_type": "code",
        "colab": {
          "base_uri": "https://localhost:8080/",
          "height": 131
        },
        "outputId": "1301884f-1bd8-48f6-900c-e974eb002c41"
      },
      "source": [
        "from google.colab import drive\n",
        "drive.mount('/content/drive')"
      ],
      "execution_count": 3,
      "outputs": [
        {
          "output_type": "stream",
          "text": [
            "Go to this URL in a browser: https://accounts.google.com/o/oauth2/auth?client_id=947318989803-6bn6qk8qdgf4n4g3pfee6491hc0brc4i.apps.googleusercontent.com&redirect_uri=urn%3aietf%3awg%3aoauth%3a2.0%3aoob&response_type=code&scope=email%20https%3a%2f%2fwww.googleapis.com%2fauth%2fdocs.test%20https%3a%2f%2fwww.googleapis.com%2fauth%2fdrive%20https%3a%2f%2fwww.googleapis.com%2fauth%2fdrive.photos.readonly%20https%3a%2f%2fwww.googleapis.com%2fauth%2fpeopleapi.readonly\n",
            "\n",
            "Enter your authorization code:\n",
            "··········\n",
            "Mounted at /content/drive\n"
          ],
          "name": "stdout"
        }
      ]
    },
    {
      "cell_type": "markdown",
      "metadata": {
        "id": "MPzr4unGXzUN",
        "colab_type": "text"
      },
      "source": [
        "# Preprocessing Data"
      ]
    },
    {
      "cell_type": "markdown",
      "metadata": {
        "id": "maRByxRGdCrW",
        "colab_type": "text"
      },
      "source": [
        "We loaded the dataset from our google drive as this file was quite big in size. The dataset we loaded consists of 28x28x3=2352+1 columns  and 10,000 rows. Each row represents a sample from the dataset whereas each column represents a specific pixel value. The last column represent the label encoding for each sample respectively. The dataset consists of label encoding for 7 types of cancer namely `Actinic Keratose`,`Basal Cell Carcinoma`,`enign Keratosis-like Lesion`,`Dermatofibroma`,`Melanocytic Nevi`,`Vascular Lesion`,`Melonoma`."
      ]
    },
    {
      "cell_type": "code",
      "metadata": {
        "id": "rR621b2lS9gr",
        "colab_type": "code",
        "colab": {
          "base_uri": "https://localhost:8080/",
          "height": 255
        },
        "outputId": "fc4fe356-b588-4edd-9900-45f464d2e5cb"
      },
      "source": [
        "data=pd.read_csv('/content/drive/My Drive/Datasets/MINIST HAM 10000/hmnist_28_28_RGB.csv',engine='python')\n",
        "data.head()"
      ],
      "execution_count": 4,
      "outputs": [
        {
          "output_type": "execute_result",
          "data": {
            "text/html": [
              "<div>\n",
              "<style scoped>\n",
              "    .dataframe tbody tr th:only-of-type {\n",
              "        vertical-align: middle;\n",
              "    }\n",
              "\n",
              "    .dataframe tbody tr th {\n",
              "        vertical-align: top;\n",
              "    }\n",
              "\n",
              "    .dataframe thead th {\n",
              "        text-align: right;\n",
              "    }\n",
              "</style>\n",
              "<table border=\"1\" class=\"dataframe\">\n",
              "  <thead>\n",
              "    <tr style=\"text-align: right;\">\n",
              "      <th></th>\n",
              "      <th>pixel0000</th>\n",
              "      <th>pixel0001</th>\n",
              "      <th>pixel0002</th>\n",
              "      <th>pixel0003</th>\n",
              "      <th>pixel0004</th>\n",
              "      <th>pixel0005</th>\n",
              "      <th>pixel0006</th>\n",
              "      <th>pixel0007</th>\n",
              "      <th>pixel0008</th>\n",
              "      <th>pixel0009</th>\n",
              "      <th>pixel0010</th>\n",
              "      <th>pixel0011</th>\n",
              "      <th>pixel0012</th>\n",
              "      <th>pixel0013</th>\n",
              "      <th>pixel0014</th>\n",
              "      <th>pixel0015</th>\n",
              "      <th>pixel0016</th>\n",
              "      <th>pixel0017</th>\n",
              "      <th>pixel0018</th>\n",
              "      <th>pixel0019</th>\n",
              "      <th>pixel0020</th>\n",
              "      <th>pixel0021</th>\n",
              "      <th>pixel0022</th>\n",
              "      <th>pixel0023</th>\n",
              "      <th>pixel0024</th>\n",
              "      <th>pixel0025</th>\n",
              "      <th>pixel0026</th>\n",
              "      <th>pixel0027</th>\n",
              "      <th>pixel0028</th>\n",
              "      <th>pixel0029</th>\n",
              "      <th>pixel0030</th>\n",
              "      <th>pixel0031</th>\n",
              "      <th>pixel0032</th>\n",
              "      <th>pixel0033</th>\n",
              "      <th>pixel0034</th>\n",
              "      <th>pixel0035</th>\n",
              "      <th>pixel0036</th>\n",
              "      <th>pixel0037</th>\n",
              "      <th>pixel0038</th>\n",
              "      <th>pixel0039</th>\n",
              "      <th>...</th>\n",
              "      <th>pixel2313</th>\n",
              "      <th>pixel2314</th>\n",
              "      <th>pixel2315</th>\n",
              "      <th>pixel2316</th>\n",
              "      <th>pixel2317</th>\n",
              "      <th>pixel2318</th>\n",
              "      <th>pixel2319</th>\n",
              "      <th>pixel2320</th>\n",
              "      <th>pixel2321</th>\n",
              "      <th>pixel2322</th>\n",
              "      <th>pixel2323</th>\n",
              "      <th>pixel2324</th>\n",
              "      <th>pixel2325</th>\n",
              "      <th>pixel2326</th>\n",
              "      <th>pixel2327</th>\n",
              "      <th>pixel2328</th>\n",
              "      <th>pixel2329</th>\n",
              "      <th>pixel2330</th>\n",
              "      <th>pixel2331</th>\n",
              "      <th>pixel2332</th>\n",
              "      <th>pixel2333</th>\n",
              "      <th>pixel2334</th>\n",
              "      <th>pixel2335</th>\n",
              "      <th>pixel2336</th>\n",
              "      <th>pixel2337</th>\n",
              "      <th>pixel2338</th>\n",
              "      <th>pixel2339</th>\n",
              "      <th>pixel2340</th>\n",
              "      <th>pixel2341</th>\n",
              "      <th>pixel2342</th>\n",
              "      <th>pixel2343</th>\n",
              "      <th>pixel2344</th>\n",
              "      <th>pixel2345</th>\n",
              "      <th>pixel2346</th>\n",
              "      <th>pixel2347</th>\n",
              "      <th>pixel2348</th>\n",
              "      <th>pixel2349</th>\n",
              "      <th>pixel2350</th>\n",
              "      <th>pixel2351</th>\n",
              "      <th>label</th>\n",
              "    </tr>\n",
              "  </thead>\n",
              "  <tbody>\n",
              "    <tr>\n",
              "      <th>0</th>\n",
              "      <td>192</td>\n",
              "      <td>153</td>\n",
              "      <td>193</td>\n",
              "      <td>195</td>\n",
              "      <td>155</td>\n",
              "      <td>192</td>\n",
              "      <td>197</td>\n",
              "      <td>154</td>\n",
              "      <td>185</td>\n",
              "      <td>202</td>\n",
              "      <td>162</td>\n",
              "      <td>192</td>\n",
              "      <td>208</td>\n",
              "      <td>165</td>\n",
              "      <td>201</td>\n",
              "      <td>209</td>\n",
              "      <td>165</td>\n",
              "      <td>205</td>\n",
              "      <td>208</td>\n",
              "      <td>165</td>\n",
              "      <td>194</td>\n",
              "      <td>212</td>\n",
              "      <td>169</td>\n",
              "      <td>198</td>\n",
              "      <td>216</td>\n",
              "      <td>181</td>\n",
              "      <td>204</td>\n",
              "      <td>216</td>\n",
              "      <td>178</td>\n",
              "      <td>204</td>\n",
              "      <td>215</td>\n",
              "      <td>172</td>\n",
              "      <td>205</td>\n",
              "      <td>217</td>\n",
              "      <td>173</td>\n",
              "      <td>209</td>\n",
              "      <td>217</td>\n",
              "      <td>166</td>\n",
              "      <td>202</td>\n",
              "      <td>214</td>\n",
              "      <td>...</td>\n",
              "      <td>216</td>\n",
              "      <td>181</td>\n",
              "      <td>212</td>\n",
              "      <td>215</td>\n",
              "      <td>176</td>\n",
              "      <td>208</td>\n",
              "      <td>213</td>\n",
              "      <td>168</td>\n",
              "      <td>191</td>\n",
              "      <td>209</td>\n",
              "      <td>159</td>\n",
              "      <td>184</td>\n",
              "      <td>212</td>\n",
              "      <td>168</td>\n",
              "      <td>194</td>\n",
              "      <td>212</td>\n",
              "      <td>172</td>\n",
              "      <td>198</td>\n",
              "      <td>208</td>\n",
              "      <td>173</td>\n",
              "      <td>193</td>\n",
              "      <td>203</td>\n",
              "      <td>168</td>\n",
              "      <td>183</td>\n",
              "      <td>190</td>\n",
              "      <td>142</td>\n",
              "      <td>152</td>\n",
              "      <td>177</td>\n",
              "      <td>123</td>\n",
              "      <td>134</td>\n",
              "      <td>173</td>\n",
              "      <td>124</td>\n",
              "      <td>138</td>\n",
              "      <td>183</td>\n",
              "      <td>147</td>\n",
              "      <td>166</td>\n",
              "      <td>185</td>\n",
              "      <td>154</td>\n",
              "      <td>177</td>\n",
              "      <td>2</td>\n",
              "    </tr>\n",
              "    <tr>\n",
              "      <th>1</th>\n",
              "      <td>25</td>\n",
              "      <td>14</td>\n",
              "      <td>30</td>\n",
              "      <td>68</td>\n",
              "      <td>48</td>\n",
              "      <td>75</td>\n",
              "      <td>123</td>\n",
              "      <td>93</td>\n",
              "      <td>126</td>\n",
              "      <td>158</td>\n",
              "      <td>128</td>\n",
              "      <td>158</td>\n",
              "      <td>172</td>\n",
              "      <td>136</td>\n",
              "      <td>162</td>\n",
              "      <td>175</td>\n",
              "      <td>134</td>\n",
              "      <td>157</td>\n",
              "      <td>177</td>\n",
              "      <td>126</td>\n",
              "      <td>158</td>\n",
              "      <td>186</td>\n",
              "      <td>138</td>\n",
              "      <td>163</td>\n",
              "      <td>197</td>\n",
              "      <td>153</td>\n",
              "      <td>187</td>\n",
              "      <td>198</td>\n",
              "      <td>153</td>\n",
              "      <td>186</td>\n",
              "      <td>203</td>\n",
              "      <td>168</td>\n",
              "      <td>206</td>\n",
              "      <td>205</td>\n",
              "      <td>169</td>\n",
              "      <td>204</td>\n",
              "      <td>207</td>\n",
              "      <td>164</td>\n",
              "      <td>199</td>\n",
              "      <td>205</td>\n",
              "      <td>...</td>\n",
              "      <td>209</td>\n",
              "      <td>176</td>\n",
              "      <td>203</td>\n",
              "      <td>207</td>\n",
              "      <td>171</td>\n",
              "      <td>191</td>\n",
              "      <td>208</td>\n",
              "      <td>172</td>\n",
              "      <td>197</td>\n",
              "      <td>205</td>\n",
              "      <td>169</td>\n",
              "      <td>188</td>\n",
              "      <td>198</td>\n",
              "      <td>159</td>\n",
              "      <td>172</td>\n",
              "      <td>200</td>\n",
              "      <td>159</td>\n",
              "      <td>192</td>\n",
              "      <td>191</td>\n",
              "      <td>140</td>\n",
              "      <td>182</td>\n",
              "      <td>177</td>\n",
              "      <td>128</td>\n",
              "      <td>141</td>\n",
              "      <td>147</td>\n",
              "      <td>101</td>\n",
              "      <td>97</td>\n",
              "      <td>113</td>\n",
              "      <td>79</td>\n",
              "      <td>82</td>\n",
              "      <td>60</td>\n",
              "      <td>39</td>\n",
              "      <td>55</td>\n",
              "      <td>25</td>\n",
              "      <td>14</td>\n",
              "      <td>28</td>\n",
              "      <td>25</td>\n",
              "      <td>14</td>\n",
              "      <td>27</td>\n",
              "      <td>2</td>\n",
              "    </tr>\n",
              "    <tr>\n",
              "      <th>2</th>\n",
              "      <td>192</td>\n",
              "      <td>138</td>\n",
              "      <td>153</td>\n",
              "      <td>200</td>\n",
              "      <td>145</td>\n",
              "      <td>163</td>\n",
              "      <td>201</td>\n",
              "      <td>142</td>\n",
              "      <td>160</td>\n",
              "      <td>206</td>\n",
              "      <td>149</td>\n",
              "      <td>165</td>\n",
              "      <td>207</td>\n",
              "      <td>149</td>\n",
              "      <td>159</td>\n",
              "      <td>209</td>\n",
              "      <td>156</td>\n",
              "      <td>164</td>\n",
              "      <td>202</td>\n",
              "      <td>136</td>\n",
              "      <td>130</td>\n",
              "      <td>200</td>\n",
              "      <td>133</td>\n",
              "      <td>129</td>\n",
              "      <td>208</td>\n",
              "      <td>146</td>\n",
              "      <td>157</td>\n",
              "      <td>212</td>\n",
              "      <td>159</td>\n",
              "      <td>167</td>\n",
              "      <td>214</td>\n",
              "      <td>157</td>\n",
              "      <td>168</td>\n",
              "      <td>211</td>\n",
              "      <td>143</td>\n",
              "      <td>150</td>\n",
              "      <td>215</td>\n",
              "      <td>148</td>\n",
              "      <td>169</td>\n",
              "      <td>213</td>\n",
              "      <td>...</td>\n",
              "      <td>221</td>\n",
              "      <td>168</td>\n",
              "      <td>175</td>\n",
              "      <td>222</td>\n",
              "      <td>170</td>\n",
              "      <td>188</td>\n",
              "      <td>221</td>\n",
              "      <td>167</td>\n",
              "      <td>184</td>\n",
              "      <td>203</td>\n",
              "      <td>144</td>\n",
              "      <td>155</td>\n",
              "      <td>201</td>\n",
              "      <td>146</td>\n",
              "      <td>155</td>\n",
              "      <td>210</td>\n",
              "      <td>163</td>\n",
              "      <td>177</td>\n",
              "      <td>190</td>\n",
              "      <td>142</td>\n",
              "      <td>152</td>\n",
              "      <td>192</td>\n",
              "      <td>152</td>\n",
              "      <td>172</td>\n",
              "      <td>194</td>\n",
              "      <td>153</td>\n",
              "      <td>176</td>\n",
              "      <td>178</td>\n",
              "      <td>134</td>\n",
              "      <td>149</td>\n",
              "      <td>167</td>\n",
              "      <td>129</td>\n",
              "      <td>143</td>\n",
              "      <td>159</td>\n",
              "      <td>124</td>\n",
              "      <td>142</td>\n",
              "      <td>136</td>\n",
              "      <td>104</td>\n",
              "      <td>117</td>\n",
              "      <td>2</td>\n",
              "    </tr>\n",
              "    <tr>\n",
              "      <th>3</th>\n",
              "      <td>38</td>\n",
              "      <td>19</td>\n",
              "      <td>30</td>\n",
              "      <td>95</td>\n",
              "      <td>59</td>\n",
              "      <td>72</td>\n",
              "      <td>143</td>\n",
              "      <td>103</td>\n",
              "      <td>119</td>\n",
              "      <td>171</td>\n",
              "      <td>125</td>\n",
              "      <td>134</td>\n",
              "      <td>177</td>\n",
              "      <td>118</td>\n",
              "      <td>123</td>\n",
              "      <td>190</td>\n",
              "      <td>137</td>\n",
              "      <td>146</td>\n",
              "      <td>192</td>\n",
              "      <td>127</td>\n",
              "      <td>143</td>\n",
              "      <td>200</td>\n",
              "      <td>141</td>\n",
              "      <td>162</td>\n",
              "      <td>207</td>\n",
              "      <td>156</td>\n",
              "      <td>170</td>\n",
              "      <td>202</td>\n",
              "      <td>144</td>\n",
              "      <td>151</td>\n",
              "      <td>202</td>\n",
              "      <td>138</td>\n",
              "      <td>155</td>\n",
              "      <td>212</td>\n",
              "      <td>159</td>\n",
              "      <td>177</td>\n",
              "      <td>211</td>\n",
              "      <td>155</td>\n",
              "      <td>172</td>\n",
              "      <td>211</td>\n",
              "      <td>...</td>\n",
              "      <td>181</td>\n",
              "      <td>137</td>\n",
              "      <td>145</td>\n",
              "      <td>189</td>\n",
              "      <td>147</td>\n",
              "      <td>166</td>\n",
              "      <td>192</td>\n",
              "      <td>157</td>\n",
              "      <td>185</td>\n",
              "      <td>169</td>\n",
              "      <td>129</td>\n",
              "      <td>144</td>\n",
              "      <td>148</td>\n",
              "      <td>114</td>\n",
              "      <td>122</td>\n",
              "      <td>157</td>\n",
              "      <td>125</td>\n",
              "      <td>137</td>\n",
              "      <td>157</td>\n",
              "      <td>127</td>\n",
              "      <td>147</td>\n",
              "      <td>154</td>\n",
              "      <td>128</td>\n",
              "      <td>147</td>\n",
              "      <td>130</td>\n",
              "      <td>102</td>\n",
              "      <td>114</td>\n",
              "      <td>87</td>\n",
              "      <td>63</td>\n",
              "      <td>73</td>\n",
              "      <td>44</td>\n",
              "      <td>26</td>\n",
              "      <td>36</td>\n",
              "      <td>25</td>\n",
              "      <td>12</td>\n",
              "      <td>17</td>\n",
              "      <td>25</td>\n",
              "      <td>12</td>\n",
              "      <td>15</td>\n",
              "      <td>2</td>\n",
              "    </tr>\n",
              "    <tr>\n",
              "      <th>4</th>\n",
              "      <td>158</td>\n",
              "      <td>113</td>\n",
              "      <td>139</td>\n",
              "      <td>194</td>\n",
              "      <td>144</td>\n",
              "      <td>174</td>\n",
              "      <td>215</td>\n",
              "      <td>162</td>\n",
              "      <td>191</td>\n",
              "      <td>225</td>\n",
              "      <td>179</td>\n",
              "      <td>214</td>\n",
              "      <td>232</td>\n",
              "      <td>189</td>\n",
              "      <td>222</td>\n",
              "      <td>235</td>\n",
              "      <td>193</td>\n",
              "      <td>219</td>\n",
              "      <td>234</td>\n",
              "      <td>191</td>\n",
              "      <td>206</td>\n",
              "      <td>238</td>\n",
              "      <td>200</td>\n",
              "      <td>219</td>\n",
              "      <td>244</td>\n",
              "      <td>213</td>\n",
              "      <td>240</td>\n",
              "      <td>243</td>\n",
              "      <td>213</td>\n",
              "      <td>239</td>\n",
              "      <td>242</td>\n",
              "      <td>210</td>\n",
              "      <td>238</td>\n",
              "      <td>244</td>\n",
              "      <td>216</td>\n",
              "      <td>241</td>\n",
              "      <td>247</td>\n",
              "      <td>224</td>\n",
              "      <td>244</td>\n",
              "      <td>246</td>\n",
              "      <td>...</td>\n",
              "      <td>238</td>\n",
              "      <td>195</td>\n",
              "      <td>209</td>\n",
              "      <td>237</td>\n",
              "      <td>191</td>\n",
              "      <td>200</td>\n",
              "      <td>238</td>\n",
              "      <td>194</td>\n",
              "      <td>201</td>\n",
              "      <td>239</td>\n",
              "      <td>197</td>\n",
              "      <td>216</td>\n",
              "      <td>238</td>\n",
              "      <td>195</td>\n",
              "      <td>219</td>\n",
              "      <td>232</td>\n",
              "      <td>179</td>\n",
              "      <td>201</td>\n",
              "      <td>217</td>\n",
              "      <td>150</td>\n",
              "      <td>173</td>\n",
              "      <td>224</td>\n",
              "      <td>171</td>\n",
              "      <td>207</td>\n",
              "      <td>227</td>\n",
              "      <td>177</td>\n",
              "      <td>206</td>\n",
              "      <td>222</td>\n",
              "      <td>178</td>\n",
              "      <td>201</td>\n",
              "      <td>209</td>\n",
              "      <td>166</td>\n",
              "      <td>185</td>\n",
              "      <td>172</td>\n",
              "      <td>135</td>\n",
              "      <td>149</td>\n",
              "      <td>109</td>\n",
              "      <td>78</td>\n",
              "      <td>92</td>\n",
              "      <td>2</td>\n",
              "    </tr>\n",
              "  </tbody>\n",
              "</table>\n",
              "<p>5 rows × 2353 columns</p>\n",
              "</div>"
            ],
            "text/plain": [
              "   pixel0000  pixel0001  pixel0002  ...  pixel2350  pixel2351  label\n",
              "0        192        153        193  ...        154        177      2\n",
              "1         25         14         30  ...         14         27      2\n",
              "2        192        138        153  ...        104        117      2\n",
              "3         38         19         30  ...         12         15      2\n",
              "4        158        113        139  ...         78         92      2\n",
              "\n",
              "[5 rows x 2353 columns]"
            ]
          },
          "metadata": {
            "tags": []
          },
          "execution_count": 4
        }
      ]
    },
    {
      "cell_type": "markdown",
      "metadata": {
        "id": "D5jeJEmbdsa2",
        "colab_type": "text"
      },
      "source": [
        "To avoid in consistent results, we have to check whether our dataset contains any missing or infinite values. Luckily, as you can see, our dataset doesn't contain any sort of missing or infinite values."
      ]
    },
    {
      "cell_type": "code",
      "metadata": {
        "id": "iXDbNrFjdU0q",
        "colab_type": "code",
        "colab": {
          "base_uri": "https://localhost:8080/",
          "height": 73
        },
        "outputId": "9c016d0a-e445-4f4e-9a4c-341e3a68a208"
      },
      "source": [
        "data.replace(to_replace=[np.inf,-np.inf],value=np.nan,inplace=True)\n",
        "data.dropna(inplace=True)\n",
        "print(\"Dataframe shape after dropping na/inf: {}\".format(data.shape))\n",
        "print(\"Does dataframe still have inf values: {}\".format(np.any(np.isinf(data))))\n",
        "print(\"Does dataframe still have nan values: {}\".format(np.any(np.isnan(data))))"
      ],
      "execution_count": 5,
      "outputs": [
        {
          "output_type": "stream",
          "text": [
            "Dataframe shape after dropping na/inf: (10015, 2353)\n",
            "Does dataframe still have inf values: False\n",
            "Does dataframe still have nan values: False\n"
          ],
          "name": "stdout"
        }
      ]
    },
    {
      "cell_type": "markdown",
      "metadata": {
        "id": "rZ9WLrf7TA-U",
        "colab_type": "text"
      },
      "source": [
        "The dataset contains a column 'Labels' having numeric code like 0,1,2 i.e. Label Encoding. To display the total counts of sample per cancer class, we have to remove label encoding by placing the subsequent dictionaries."
      ]
    },
    {
      "cell_type": "code",
      "metadata": {
        "id": "O_j6E7g1VSOl",
        "colab_type": "code",
        "colab": {
          "base_uri": "https://localhost:8080/",
          "height": 206
        },
        "outputId": "ef14cefe-73a7-4b7d-97ee-d9e442f6aea0"
      },
      "source": [
        " labels_dict={\n",
        "    0:'akiec',\n",
        "    1:'bcc',\n",
        "    2:'bkl',\n",
        "    3:'df',\n",
        "    4:\"nv\",\n",
        "    5:'vasc',\n",
        "    6:'mel',\n",
        "}\n",
        "lesion_type_dict={\n",
        "        'akiec':'Actinic Keratose',\n",
        "        'bcc':'Basal Cell Carcinoma',\n",
        "        'bkl':'Benign Keratosis-like Lesion',\n",
        "        'df':'Dermatofibroma',\n",
        "        'nv':'Melanocytic Nevi',\n",
        "        'vasc':'Vascular Lesion',\n",
        "        'mel':'Melonoma'\n",
        "}\n",
        "stats_df = pd.DataFrame({'Labels':data.label})\n",
        "stats_df['Label_Codes'] = stats_df.Labels.map(labels_dict.get)\n",
        "stats_df['Labels_Names'] = stats_df.Label_Codes.map(lesion_type_dict.get)\n",
        "stats_df.head()"
      ],
      "execution_count": 6,
      "outputs": [
        {
          "output_type": "execute_result",
          "data": {
            "text/html": [
              "<div>\n",
              "<style scoped>\n",
              "    .dataframe tbody tr th:only-of-type {\n",
              "        vertical-align: middle;\n",
              "    }\n",
              "\n",
              "    .dataframe tbody tr th {\n",
              "        vertical-align: top;\n",
              "    }\n",
              "\n",
              "    .dataframe thead th {\n",
              "        text-align: right;\n",
              "    }\n",
              "</style>\n",
              "<table border=\"1\" class=\"dataframe\">\n",
              "  <thead>\n",
              "    <tr style=\"text-align: right;\">\n",
              "      <th></th>\n",
              "      <th>Labels</th>\n",
              "      <th>Label_Codes</th>\n",
              "      <th>Labels_Names</th>\n",
              "    </tr>\n",
              "  </thead>\n",
              "  <tbody>\n",
              "    <tr>\n",
              "      <th>0</th>\n",
              "      <td>2</td>\n",
              "      <td>bkl</td>\n",
              "      <td>Benign Keratosis-like Lesion</td>\n",
              "    </tr>\n",
              "    <tr>\n",
              "      <th>1</th>\n",
              "      <td>2</td>\n",
              "      <td>bkl</td>\n",
              "      <td>Benign Keratosis-like Lesion</td>\n",
              "    </tr>\n",
              "    <tr>\n",
              "      <th>2</th>\n",
              "      <td>2</td>\n",
              "      <td>bkl</td>\n",
              "      <td>Benign Keratosis-like Lesion</td>\n",
              "    </tr>\n",
              "    <tr>\n",
              "      <th>3</th>\n",
              "      <td>2</td>\n",
              "      <td>bkl</td>\n",
              "      <td>Benign Keratosis-like Lesion</td>\n",
              "    </tr>\n",
              "    <tr>\n",
              "      <th>4</th>\n",
              "      <td>2</td>\n",
              "      <td>bkl</td>\n",
              "      <td>Benign Keratosis-like Lesion</td>\n",
              "    </tr>\n",
              "  </tbody>\n",
              "</table>\n",
              "</div>"
            ],
            "text/plain": [
              "   Labels Label_Codes                  Labels_Names\n",
              "0       2         bkl  Benign Keratosis-like Lesion\n",
              "1       2         bkl  Benign Keratosis-like Lesion\n",
              "2       2         bkl  Benign Keratosis-like Lesion\n",
              "3       2         bkl  Benign Keratosis-like Lesion\n",
              "4       2         bkl  Benign Keratosis-like Lesion"
            ]
          },
          "metadata": {
            "tags": []
          },
          "execution_count": 6
        }
      ]
    },
    {
      "cell_type": "markdown",
      "metadata": {
        "id": "FsxLOHltTnVi",
        "colab_type": "text"
      },
      "source": [
        "As you can see below, we have the highest count of samples for `Melanocytic Nevi`."
      ]
    },
    {
      "cell_type": "code",
      "metadata": {
        "id": "Dtj3W4uyWf62",
        "colab_type": "code",
        "colab": {
          "base_uri": "https://localhost:8080/",
          "height": 471
        },
        "outputId": "65f9a569-ff12-4bdc-a193-26fb502a2468"
      },
      "source": [
        "_, ax = plt.subplots(1,1,figsize=(10,5))\n",
        "stats_df['Labels_Names'].value_counts().plot(kind='bar',ax=ax)"
      ],
      "execution_count": 7,
      "outputs": [
        {
          "output_type": "execute_result",
          "data": {
            "text/plain": [
              "<matplotlib.axes._subplots.AxesSubplot at 0x7f4e91953470>"
            ]
          },
          "metadata": {
            "tags": []
          },
          "execution_count": 7
        },
        {
          "output_type": "display_data",
          "data": {
            "image/png": "[encoded data removed]",
            "text/plain": [
              "<Figure size 720x360 with 1 Axes>"
            ]
          },
          "metadata": {
            "tags": [],
            "needs_background": "light"
          }
        }
      ]
    },
    {
      "cell_type": "markdown",
      "metadata": {
        "id": "OAUTaIlNUI3A",
        "colab_type": "text"
      },
      "source": [
        "Now we will preprocess our data and prepare it to divide into train and test set."
      ]
    },
    {
      "cell_type": "code",
      "metadata": {
        "id": "BBLr3F_rVIYa",
        "colab_type": "code",
        "colab": {
          "base_uri": "https://localhost:8080/",
          "height": 36
        },
        "outputId": "0d70b547-7937-4ad2-f5e4-dcffc1a5711a"
      },
      "source": [
        "X=data.drop(\"label\", axis=1).values\n",
        "Y=data.label\n",
        "X.shape,Y.shape"
      ],
      "execution_count": 8,
      "outputs": [
        {
          "output_type": "execute_result",
          "data": {
            "text/plain": [
              "((10015, 2352), (10015,))"
            ]
          },
          "metadata": {
            "tags": []
          },
          "execution_count": 8
        }
      ]
    },
    {
      "cell_type": "code",
      "metadata": {
        "id": "ekwMc5YTWB7n",
        "colab_type": "code",
        "colab": {
          "base_uri": "https://localhost:8080/",
          "height": 36
        },
        "outputId": "48bf6c1b-b9c5-4014-e414-3b892663d7b1"
      },
      "source": [
        "X=X/255\n",
        "X=X.reshape(-1,28,28,3)\n",
        "X.shape"
      ],
      "execution_count": 9,
      "outputs": [
        {
          "output_type": "execute_result",
          "data": {
            "text/plain": [
              "(10015, 28, 28, 3)"
            ]
          },
          "metadata": {
            "tags": []
          },
          "execution_count": 9
        }
      ]
    },
    {
      "cell_type": "code",
      "metadata": {
        "id": "CVmOWwQvXWP0",
        "colab_type": "code",
        "colab": {
          "base_uri": "https://localhost:8080/",
          "height": 36
        },
        "outputId": "4fa2a0f2-edbe-4aa4-a478-5c9c2e008c7d"
      },
      "source": [
        "X_train, X_test, Y_train, Y_test = train_test_split(X, Y, test_size=0.1,random_state=0)\n",
        "X_train.shape,Y_train.shape,X_test.shape,Y_test.shape"
      ],
      "execution_count": 10,
      "outputs": [
        {
          "output_type": "execute_result",
          "data": {
            "text/plain": [
              "((9013, 28, 28, 3), (9013,), (1002, 28, 28, 3), (1002,))"
            ]
          },
          "metadata": {
            "tags": []
          },
          "execution_count": 10
        }
      ]
    },
    {
      "cell_type": "code",
      "metadata": {
        "id": "DlNensqUXqW1",
        "colab_type": "code",
        "colab": {
          "base_uri": "https://localhost:8080/",
          "height": 36
        },
        "outputId": "7ea690df-3fb2-4726-f0f6-b37bdbc19890"
      },
      "source": [
        "Y_train=to_categorical(Y_train)\n",
        "Y_test=to_categorical(Y_test)\n",
        "Y_train.shape,Y_test.shape"
      ],
      "execution_count": 11,
      "outputs": [
        {
          "output_type": "execute_result",
          "data": {
            "text/plain": [
              "((9013, 7), (1002, 7))"
            ]
          },
          "metadata": {
            "tags": []
          },
          "execution_count": 11
        }
      ]
    },
    {
      "cell_type": "markdown",
      "metadata": {
        "id": "i0PuEQzUX50e",
        "colab_type": "text"
      },
      "source": [
        "# Building and Training CNN"
      ]
    },
    {
      "cell_type": "markdown",
      "metadata": {
        "id": "JYJK15bUdeOd",
        "colab_type": "text"
      },
      "source": [
        "We decided to train 2 models for our project.\n",
        "1. CNN Model from Scratch\n",
        "2. VGG16 using transfer learning.\n",
        "\n",
        "`CNN` is trained by Sher Alam whereas `VGG16` is retrained by Mutahhar bin Muzaffar."
      ]
    },
    {
      "cell_type": "markdown",
      "metadata": {
        "id": "5obtcNl4eZan",
        "colab_type": "text"
      },
      "source": [
        "As you can see, we made a custom architecture for our CNN. We added a BatchNormalization layer to normalize the output of each layer i.e. Normalize `z` in order to improve the performance of our model slightly. "
      ]
    },
    {
      "cell_type": "code",
      "metadata": {
        "id": "c3ffuq5RY5wU",
        "colab_type": "code",
        "colab": {
          "base_uri": "https://localhost:8080/",
          "height": 954
        },
        "outputId": "d5ce0b5e-95db-45e1-b756-429896d96d63"
      },
      "source": [
        "def cancer_detector(input_shape=(28,28,3)):\n",
        "  X_input=Input(shape=input_shape)\n",
        "  X=ZeroPadding2D(3)(X_input)\n",
        "  X=Conv2D(32,3,padding='same')(X)\n",
        "  X=BatchNormalization()(X)\n",
        "  X=Activation('relu')(X)\n",
        "  X=Dropout(0.3)(X)\n",
        "  X=Conv2D(64,3,padding='same')(X)\n",
        "  X=BatchNormalization()(X)\n",
        "  X=Activation('relu')(X)\n",
        "  X=Conv2D(64,3,padding='same')(X)\n",
        "  X=BatchNormalization()(X)\n",
        "  X=Activation('relu')(X)\n",
        "  X=MaxPooling2D(2)(X)\n",
        "  X=Conv2D(128,3,padding='same')(X)\n",
        "  X=BatchNormalization()(X)\n",
        "  X=Activation('relu')(X) \n",
        "  X=MaxPooling2D(2)(X)\n",
        "  X=Dropout(0.2)(X) \n",
        "  X=Flatten()(X)\n",
        "  X=Dense(128,activation='relu')(X)\n",
        "  X=Dense(7,activation='softmax')(X)\n",
        "\n",
        "  model=Model(inputs=X_input,outputs=X)\n",
        "  return model\n",
        "\n",
        "model= cancer_detector()\n",
        "model.summary()\n",
        "\n"
      ],
      "execution_count": 12,
      "outputs": [
        {
          "output_type": "stream",
          "text": [
            "Model: \"model_1\"\n",
            "_________________________________________________________________\n",
            "Layer (type)                 Output Shape              Param #   \n",
            "=================================================================\n",
            "input_1 (InputLayer)         (None, 28, 28, 3)         0         \n",
            "_________________________________________________________________\n",
            "zero_padding2d_1 (ZeroPaddin (None, 34, 34, 3)         0         \n",
            "_________________________________________________________________\n",
            "conv2d_1 (Conv2D)            (None, 34, 34, 32)        896       \n",
            "_________________________________________________________________\n",
            "batch_normalization_1 (Batch (None, 34, 34, 32)        128       \n",
            "_________________________________________________________________\n",
            "activation_1 (Activation)    (None, 34, 34, 32)        0         \n",
            "_________________________________________________________________\n",
            "dropout_1 (Dropout)          (None, 34, 34, 32)        0         \n",
            "_________________________________________________________________\n",
            "conv2d_2 (Conv2D)            (None, 34, 34, 64)        18496     \n",
            "_________________________________________________________________\n",
            "batch_normalization_2 (Batch (None, 34, 34, 64)        256       \n",
            "_________________________________________________________________\n",
            "activation_2 (Activation)    (None, 34, 34, 64)        0         \n",
            "_________________________________________________________________\n",
            "conv2d_3 (Conv2D)            (None, 34, 34, 64)        36928     \n",
            "_________________________________________________________________\n",
            "batch_normalization_3 (Batch (None, 34, 34, 64)        256       \n",
            "_________________________________________________________________\n",
            "activation_3 (Activation)    (None, 34, 34, 64)        0         \n",
            "_________________________________________________________________\n",
            "max_pooling2d_1 (MaxPooling2 (None, 17, 17, 64)        0         \n",
            "_________________________________________________________________\n",
            "conv2d_4 (Conv2D)            (None, 17, 17, 128)       73856     \n",
            "_________________________________________________________________\n",
            "batch_normalization_4 (Batch (None, 17, 17, 128)       512       \n",
            "_________________________________________________________________\n",
            "activation_4 (Activation)    (None, 17, 17, 128)       0         \n",
            "_________________________________________________________________\n",
            "max_pooling2d_2 (MaxPooling2 (None, 8, 8, 128)         0         \n",
            "_________________________________________________________________\n",
            "dropout_2 (Dropout)          (None, 8, 8, 128)         0         \n",
            "_________________________________________________________________\n",
            "flatten_1 (Flatten)          (None, 8192)              0         \n",
            "_________________________________________________________________\n",
            "dense_1 (Dense)              (None, 128)               1048704   \n",
            "_________________________________________________________________\n",
            "dense_2 (Dense)              (None, 7)                 903       \n",
            "=================================================================\n",
            "Total params: 1,180,935\n",
            "Trainable params: 1,180,359\n",
            "Non-trainable params: 576\n",
            "_________________________________________________________________\n"
          ],
          "name": "stdout"
        }
      ]
    },
    {
      "cell_type": "code",
      "metadata": {
        "id": "1RpvnkdWapgE",
        "colab_type": "code",
        "colab": {}
      },
      "source": [
        "adam=Adam(learning_rate=0.001)\n",
        "model.compile(optimizer=adam, loss='categorical_crossentropy',metrics=['accuracy'])"
      ],
      "execution_count": 13,
      "outputs": []
    },
    {
      "cell_type": "markdown",
      "metadata": {
        "id": "Q6_UZ-M3flOI",
        "colab_type": "text"
      },
      "source": [
        "Due to the limited size of the dataset i.e. 10,000 samples, which is quite less for training a deep learning model, we used `ImageDataGenerator` to use data augmentation approache while training our models."
      ]
    },
    {
      "cell_type": "code",
      "metadata": {
        "id": "-MR7XFTDb-qF",
        "colab_type": "code",
        "colab": {}
      },
      "source": [
        "datagen = ImageDataGenerator(\n",
        "        rotation_range=40,\n",
        "        width_shift_range=0.2,\n",
        "        height_shift_range=0.2,\n",
        "        zoom_range=0.2,\n",
        "        horizontal_flip=True,\n",
        "        fill_mode='nearest')"
      ],
      "execution_count": 14,
      "outputs": []
    },
    {
      "cell_type": "code",
      "metadata": {
        "id": "98Ly-eTRa_ZZ",
        "colab_type": "code",
        "colab": {
          "base_uri": "https://localhost:8080/",
          "height": 1000
        },
        "outputId": "fe4e3b23-13fc-41a4-8a71-4a1762fa23a7"
      },
      "source": [
        "history = model.fit_generator(datagen.flow(X_train,Y_train,batch_size=64),steps_per_epoch=X_train.shape[0]//64,epochs=50,validation_data=(X_test,Y_test),verbose=1)"
      ],
      "execution_count": 15,
      "outputs": [
        {
          "output_type": "stream",
          "text": [
            "Epoch 1/50\n",
            "140/140 [==============================] - 18s 126ms/step - loss: 1.4363 - accuracy: 0.6364 - val_loss: 1.5177 - val_accuracy: 0.1078\n",
            "Epoch 2/50\n",
            "140/140 [==============================] - 10s 74ms/step - loss: 0.8656 - accuracy: 0.6862 - val_loss: 1.6742 - val_accuracy: 0.1248\n",
            "Epoch 3/50\n",
            "140/140 [==============================] - 10s 74ms/step - loss: 0.8462 - accuracy: 0.6837 - val_loss: 1.0384 - val_accuracy: 0.5589\n",
            "Epoch 4/50\n",
            "140/140 [==============================] - 10s 74ms/step - loss: 0.7906 - accuracy: 0.7081 - val_loss: 0.8549 - val_accuracy: 0.6677\n",
            "Epoch 5/50\n",
            "140/140 [==============================] - 10s 74ms/step - loss: 0.7695 - accuracy: 0.7106 - val_loss: 0.8001 - val_accuracy: 0.7036\n",
            "Epoch 6/50\n",
            "140/140 [==============================] - 10s 74ms/step - loss: 0.7498 - accuracy: 0.7232 - val_loss: 0.9838 - val_accuracy: 0.5798\n",
            "Epoch 7/50\n",
            "140/140 [==============================] - 10s 73ms/step - loss: 0.7382 - accuracy: 0.7276 - val_loss: 0.8900 - val_accuracy: 0.7026\n",
            "Epoch 8/50\n",
            "140/140 [==============================] - 10s 73ms/step - loss: 0.7289 - accuracy: 0.7268 - val_loss: 1.0045 - val_accuracy: 0.5938\n",
            "Epoch 9/50\n",
            "140/140 [==============================] - 10s 74ms/step - loss: 0.7175 - accuracy: 0.7352 - val_loss: 1.6932 - val_accuracy: 0.2715\n",
            "Epoch 10/50\n",
            "140/140 [==============================] - 10s 73ms/step - loss: 0.7048 - accuracy: 0.7413 - val_loss: 0.7327 - val_accuracy: 0.7265\n",
            "Epoch 11/50\n",
            "140/140 [==============================] - 10s 74ms/step - loss: 0.6893 - accuracy: 0.7416 - val_loss: 0.8310 - val_accuracy: 0.6717\n",
            "Epoch 12/50\n",
            "140/140 [==============================] - 10s 73ms/step - loss: 0.6896 - accuracy: 0.7429 - val_loss: 0.9895 - val_accuracy: 0.6996\n",
            "Epoch 13/50\n",
            "140/140 [==============================] - 10s 73ms/step - loss: 0.6789 - accuracy: 0.7466 - val_loss: 0.8679 - val_accuracy: 0.6607\n",
            "Epoch 14/50\n",
            "140/140 [==============================] - 10s 74ms/step - loss: 0.6757 - accuracy: 0.7433 - val_loss: 0.7506 - val_accuracy: 0.7325\n",
            "Epoch 15/50\n",
            "140/140 [==============================] - 10s 73ms/step - loss: 0.6536 - accuracy: 0.7527 - val_loss: 1.0490 - val_accuracy: 0.5739\n",
            "Epoch 16/50\n",
            "140/140 [==============================] - 10s 73ms/step - loss: 0.6438 - accuracy: 0.7593 - val_loss: 1.0208 - val_accuracy: 0.7066\n",
            "Epoch 17/50\n",
            "140/140 [==============================] - 10s 73ms/step - loss: 0.6554 - accuracy: 0.7547 - val_loss: 0.7029 - val_accuracy: 0.7365\n",
            "Epoch 18/50\n",
            "140/140 [==============================] - 10s 73ms/step - loss: 0.6427 - accuracy: 0.7615 - val_loss: 0.7663 - val_accuracy: 0.6946\n",
            "Epoch 19/50\n",
            "140/140 [==============================] - 10s 73ms/step - loss: 0.6375 - accuracy: 0.7623 - val_loss: 0.8870 - val_accuracy: 0.6437\n",
            "Epoch 20/50\n",
            "140/140 [==============================] - 10s 73ms/step - loss: 0.6249 - accuracy: 0.7704 - val_loss: 0.9261 - val_accuracy: 0.7295\n",
            "Epoch 21/50\n",
            "140/140 [==============================] - 10s 74ms/step - loss: 0.6293 - accuracy: 0.7630 - val_loss: 0.7715 - val_accuracy: 0.7226\n",
            "Epoch 22/50\n",
            "140/140 [==============================] - 10s 74ms/step - loss: 0.6241 - accuracy: 0.7662 - val_loss: 0.7500 - val_accuracy: 0.7335\n",
            "Epoch 23/50\n",
            "140/140 [==============================] - 10s 74ms/step - loss: 0.6243 - accuracy: 0.7650 - val_loss: 0.7121 - val_accuracy: 0.7206\n",
            "Epoch 24/50\n",
            "140/140 [==============================] - 10s 74ms/step - loss: 0.6083 - accuracy: 0.7709 - val_loss: 0.7542 - val_accuracy: 0.7335\n",
            "Epoch 25/50\n",
            "140/140 [==============================] - 10s 73ms/step - loss: 0.6163 - accuracy: 0.7644 - val_loss: 0.6827 - val_accuracy: 0.7485\n",
            "Epoch 26/50\n",
            "140/140 [==============================] - 10s 73ms/step - loss: 0.5995 - accuracy: 0.7727 - val_loss: 0.6371 - val_accuracy: 0.7575\n",
            "Epoch 27/50\n",
            "140/140 [==============================] - 10s 73ms/step - loss: 0.6171 - accuracy: 0.7630 - val_loss: 0.9249 - val_accuracy: 0.7126\n",
            "Epoch 28/50\n",
            "140/140 [==============================] - 10s 73ms/step - loss: 0.5921 - accuracy: 0.7746 - val_loss: 0.7468 - val_accuracy: 0.7106\n",
            "Epoch 29/50\n",
            "140/140 [==============================] - 10s 74ms/step - loss: 0.5987 - accuracy: 0.7742 - val_loss: 0.7200 - val_accuracy: 0.7405\n",
            "Epoch 30/50\n",
            "140/140 [==============================] - 10s 73ms/step - loss: 0.6026 - accuracy: 0.7719 - val_loss: 0.6524 - val_accuracy: 0.7625\n",
            "Epoch 31/50\n",
            "140/140 [==============================] - 10s 74ms/step - loss: 0.5894 - accuracy: 0.7780 - val_loss: 0.7437 - val_accuracy: 0.7066\n",
            "Epoch 32/50\n",
            "140/140 [==============================] - 10s 73ms/step - loss: 0.5889 - accuracy: 0.7773 - val_loss: 0.7859 - val_accuracy: 0.7186\n",
            "Epoch 33/50\n",
            "140/140 [==============================] - 10s 73ms/step - loss: 0.5900 - accuracy: 0.7732 - val_loss: 0.6758 - val_accuracy: 0.7525\n",
            "Epoch 34/50\n",
            "140/140 [==============================] - 10s 74ms/step - loss: 0.5821 - accuracy: 0.7847 - val_loss: 0.7027 - val_accuracy: 0.7545\n",
            "Epoch 35/50\n",
            "140/140 [==============================] - 10s 74ms/step - loss: 0.5691 - accuracy: 0.7845 - val_loss: 0.6129 - val_accuracy: 0.7685\n",
            "Epoch 36/50\n",
            "140/140 [==============================] - 10s 73ms/step - loss: 0.5790 - accuracy: 0.7838 - val_loss: 0.7230 - val_accuracy: 0.7186\n",
            "Epoch 37/50\n",
            "140/140 [==============================] - 10s 73ms/step - loss: 0.5799 - accuracy: 0.7851 - val_loss: 0.6430 - val_accuracy: 0.7555\n",
            "Epoch 38/50\n",
            "140/140 [==============================] - 10s 73ms/step - loss: 0.5763 - accuracy: 0.7840 - val_loss: 0.7787 - val_accuracy: 0.7176\n",
            "Epoch 39/50\n",
            "140/140 [==============================] - 10s 74ms/step - loss: 0.5704 - accuracy: 0.7877 - val_loss: 0.7965 - val_accuracy: 0.7216\n",
            "Epoch 40/50\n",
            "140/140 [==============================] - 10s 73ms/step - loss: 0.5621 - accuracy: 0.7893 - val_loss: 0.6884 - val_accuracy: 0.7355\n",
            "Epoch 41/50\n",
            "140/140 [==============================] - 10s 73ms/step - loss: 0.5722 - accuracy: 0.7821 - val_loss: 0.7435 - val_accuracy: 0.7455\n",
            "Epoch 42/50\n",
            "140/140 [==============================] - 10s 73ms/step - loss: 0.5533 - accuracy: 0.7894 - val_loss: 0.6771 - val_accuracy: 0.7345\n",
            "Epoch 43/50\n",
            "140/140 [==============================] - 10s 73ms/step - loss: 0.5682 - accuracy: 0.7837 - val_loss: 0.6920 - val_accuracy: 0.7545\n",
            "Epoch 44/50\n",
            "140/140 [==============================] - 10s 73ms/step - loss: 0.5596 - accuracy: 0.7841 - val_loss: 0.6724 - val_accuracy: 0.7365\n",
            "Epoch 45/50\n",
            "140/140 [==============================] - 10s 73ms/step - loss: 0.5450 - accuracy: 0.7960 - val_loss: 0.7221 - val_accuracy: 0.7515\n",
            "Epoch 46/50\n",
            "140/140 [==============================] - 10s 73ms/step - loss: 0.5579 - accuracy: 0.7917 - val_loss: 0.8959 - val_accuracy: 0.7385\n",
            "Epoch 47/50\n",
            "140/140 [==============================] - 10s 73ms/step - loss: 0.5522 - accuracy: 0.7951 - val_loss: 0.6953 - val_accuracy: 0.7206\n",
            "Epoch 48/50\n",
            "140/140 [==============================] - 10s 73ms/step - loss: 0.5502 - accuracy: 0.7923 - val_loss: 0.7899 - val_accuracy: 0.7405\n",
            "Epoch 49/50\n",
            "140/140 [==============================] - 10s 73ms/step - loss: 0.5489 - accuracy: 0.7945 - val_loss: 0.7601 - val_accuracy: 0.7315\n",
            "Epoch 50/50\n",
            "140/140 [==============================] - 10s 74ms/step - loss: 0.5402 - accuracy: 0.7948 - val_loss: 0.7132 - val_accuracy: 0.7475\n"
          ],
          "name": "stdout"
        }
      ]
    },
    {
      "cell_type": "code",
      "metadata": {
        "id": "bzCrMIUubNf7",
        "colab_type": "code",
        "colab": {
          "base_uri": "https://localhost:8080/",
          "height": 54
        },
        "outputId": "72db17f5-1313-4f30-8772-50a039e78dff"
      },
      "source": [
        "lossCNN,scoreCNN = model.evaluate(X_test,Y_test)\n",
        "\n",
        "print(\"Loss for CNN is: {}\\Accuracy for CNN is: {}\".format(lossCNN,scoreCNN))"
      ],
      "execution_count": 16,
      "outputs": [
        {
          "output_type": "stream",
          "text": [
            "1002/1002 [==============================] - 1s 530us/step\n",
            "Loss for CNN is: 0.7131723592024364\\Accuracy for CNN is: 0.7475050091743469\n"
          ],
          "name": "stdout"
        }
      ]
    },
    {
      "cell_type": "markdown",
      "metadata": {
        "id": "97YBspFajJUI",
        "colab_type": "text"
      },
      "source": [
        "As you can see above, due to the lack of sufficient dataset and even after using the data augmentation approch, our model still performed average with an accuracy of around 75%."
      ]
    },
    {
      "cell_type": "code",
      "metadata": {
        "id": "TtZj4olqZIvL",
        "colab_type": "code",
        "colab": {
          "base_uri": "https://localhost:8080/",
          "height": 279
        },
        "outputId": "aeee4da7-4c4f-41cc-a798-229de07e38a3"
      },
      "source": [
        "plt.plot(history.history['accuracy'])\n",
        "plt.xlabel('Epochs')\n",
        "plt.ylabel('Accuracy')\n",
        "plt.show()"
      ],
      "execution_count": 17,
      "outputs": [
        {
          "output_type": "display_data",
          "data": {
            "image/png": "[encoded data removed]",
            "text/plain": [
              "<Figure size 432x288 with 1 Axes>"
            ]
          },
          "metadata": {
            "tags": [],
            "needs_background": "light"
          }
        }
      ]
    },
    {
      "cell_type": "code",
      "metadata": {
        "id": "knV-b8k3ZMKz",
        "colab_type": "code",
        "colab": {
          "base_uri": "https://localhost:8080/",
          "height": 279
        },
        "outputId": "166ad97a-f824-4559-bc55-de0ffc025860"
      },
      "source": [
        "plt.plot(history.history['loss'])\n",
        "plt.xlabel('Epochs')\n",
        "plt.ylabel('Loss')\n",
        "plt.show()"
      ],
      "execution_count": 18,
      "outputs": [
        {
          "output_type": "display_data",
          "data": {
            "image/png": "[encoded data removed]",
            "text/plain": [
              "<Figure size 432x288 with 1 Axes>"
            ]
          },
          "metadata": {
            "tags": [],
            "needs_background": "light"
          }
        }
      ]
    },
    {
      "cell_type": "code",
      "metadata": {
        "id": "F-7dFxm0kM4M",
        "colab_type": "code",
        "colab": {}
      },
      "source": [
        "accuracy = []\n",
        "accuracy.append({'CNN':scoreCNN})\n",
        "model.save('./modelCNN.h5')"
      ],
      "execution_count": 19,
      "outputs": []
    },
    {
      "cell_type": "markdown",
      "metadata": {
        "id": "EO2tOqROY_NG",
        "colab_type": "text"
      },
      "source": [
        "# Transfer Learning using VGG16"
      ]
    },
    {
      "cell_type": "markdown",
      "metadata": {
        "id": "XkAn05GlqZtZ",
        "colab_type": "text"
      },
      "source": [
        "VGG16 is trained by Mutahhar bin Muzaffar using transfer learning. Our dataset consists of images of shape 28x28 whereas, vgg requires input of much greater size than this. That is why we had to use UpSampling layer of keras to produce an input which is acceptable by VGG16.\n",
        "As you can see, we used the output of the last layer of vgg model i.e. `block5_pool` as the input of our additional 3 Dense layers used for classification of different types of cancer."
      ]
    },
    {
      "cell_type": "code",
      "metadata": {
        "id": "CoCcZ2uGxE-p",
        "colab_type": "code",
        "colab": {}
      },
      "source": [
        "def vgg(input_shape):\n",
        "  x_input=Input(shape=input_shape)\n",
        "  x=UpSampling2D((2,2))(x_input)\n",
        "  vgg=VGG16(input_tensor=x, include_top=False, weights=\"imagenet\")\n",
        "  x = GlobalMaxPooling2D()(vgg.get_layer('block5_pool').output)\n",
        "  x = Dense(512, activation='relu')(x)\n",
        "  x = Dropout(0.5)(x)\n",
        "  x = Dense(7, activation='softmax')(x)\n",
        "  model=Model(x_input,x)\n",
        "  return model\n"
      ],
      "execution_count": 20,
      "outputs": []
    },
    {
      "cell_type": "code",
      "metadata": {
        "id": "qvvVCAjHQmtB",
        "colab_type": "code",
        "colab": {
          "base_uri": "https://localhost:8080/",
          "height": 74
        },
        "outputId": "288d28ca-e46b-44e3-bd31-e65e3d176219"
      },
      "source": [
        "model_vgg=vgg(input_shape=(28,28,3))"
      ],
      "execution_count": 21,
      "outputs": [
        {
          "output_type": "stream",
          "text": [
            "Downloading data from https://github.com/fchollet/deep-learning-models/releases/download/v0.1/vgg16_weights_tf_dim_ordering_tf_kernels_notop.h5\n",
            "58892288/58889256 [==============================] - 6s 0us/step\n"
          ],
          "name": "stdout"
        }
      ]
    },
    {
      "cell_type": "code",
      "metadata": {
        "id": "H3l0UMkOROPI",
        "colab_type": "code",
        "colab": {
          "base_uri": "https://localhost:8080/",
          "height": 1000
        },
        "outputId": "de93d499-99da-46d3-fd1c-b842eac7480c"
      },
      "source": [
        "model_vgg.summary()"
      ],
      "execution_count": 22,
      "outputs": [
        {
          "output_type": "stream",
          "text": [
            "Model: \"model_2\"\n",
            "_________________________________________________________________\n",
            "Layer (type)                 Output Shape              Param #   \n",
            "=================================================================\n",
            "input_2 (InputLayer)         (None, 28, 28, 3)         0         \n",
            "_________________________________________________________________\n",
            "up_sampling2d_1 (UpSampling2 (None, 56, 56, 3)         0         \n",
            "_________________________________________________________________\n",
            "block1_conv1 (Conv2D)        (None, 56, 56, 64)        1792      \n",
            "_________________________________________________________________\n",
            "block1_conv2 (Conv2D)        (None, 56, 56, 64)        36928     \n",
            "_________________________________________________________________\n",
            "block1_pool (MaxPooling2D)   (None, 28, 28, 64)        0         \n",
            "_________________________________________________________________\n",
            "block2_conv1 (Conv2D)        (None, 28, 28, 128)       73856     \n",
            "_________________________________________________________________\n",
            "block2_conv2 (Conv2D)        (None, 28, 28, 128)       147584    \n",
            "_________________________________________________________________\n",
            "block2_pool (MaxPooling2D)   (None, 14, 14, 128)       0         \n",
            "_________________________________________________________________\n",
            "block3_conv1 (Conv2D)        (None, 14, 14, 256)       295168    \n",
            "_________________________________________________________________\n",
            "block3_conv2 (Conv2D)        (None, 14, 14, 256)       590080    \n",
            "_________________________________________________________________\n",
            "block3_conv3 (Conv2D)        (None, 14, 14, 256)       590080    \n",
            "_________________________________________________________________\n",
            "block3_pool (MaxPooling2D)   (None, 7, 7, 256)         0         \n",
            "_________________________________________________________________\n",
            "block4_conv1 (Conv2D)        (None, 7, 7, 512)         1180160   \n",
            "_________________________________________________________________\n",
            "block4_conv2 (Conv2D)        (None, 7, 7, 512)         2359808   \n",
            "_________________________________________________________________\n",
            "block4_conv3 (Conv2D)        (None, 7, 7, 512)         2359808   \n",
            "_________________________________________________________________\n",
            "block4_pool (MaxPooling2D)   (None, 3, 3, 512)         0         \n",
            "_________________________________________________________________\n",
            "block5_conv1 (Conv2D)        (None, 3, 3, 512)         2359808   \n",
            "_________________________________________________________________\n",
            "block5_conv2 (Conv2D)        (None, 3, 3, 512)         2359808   \n",
            "_________________________________________________________________\n",
            "block5_conv3 (Conv2D)        (None, 3, 3, 512)         2359808   \n",
            "_________________________________________________________________\n",
            "block5_pool (MaxPooling2D)   (None, 1, 1, 512)         0         \n",
            "_________________________________________________________________\n",
            "global_max_pooling2d_1 (Glob (None, 512)               0         \n",
            "_________________________________________________________________\n",
            "dense_3 (Dense)              (None, 512)               262656    \n",
            "_________________________________________________________________\n",
            "dropout_3 (Dropout)          (None, 512)               0         \n",
            "_________________________________________________________________\n",
            "dense_4 (Dense)              (None, 7)                 3591      \n",
            "=================================================================\n",
            "Total params: 14,980,935\n",
            "Trainable params: 14,980,935\n",
            "Non-trainable params: 0\n",
            "_________________________________________________________________\n"
          ],
          "name": "stdout"
        }
      ]
    },
    {
      "cell_type": "markdown",
      "metadata": {
        "id": "OvCWQsOz5dhh",
        "colab_type": "text"
      },
      "source": [
        "Here I have set all the layers of vgg except the last 3 dense layers to trainable so that I can train the weights of the last 3 layers to some extent."
      ]
    },
    {
      "cell_type": "code",
      "metadata": {
        "id": "jWR0duR4LRYP",
        "colab_type": "code",
        "colab": {}
      },
      "source": [
        "for layers in model_vgg.layers:\n",
        "  layers.trainable=False\n",
        "for layers in model_vgg.layers[-3:]:\n",
        "   layers.trainable=True"
      ],
      "execution_count": 23,
      "outputs": []
    },
    {
      "cell_type": "code",
      "metadata": {
        "id": "Lo0HNjB2OPFd",
        "colab_type": "code",
        "colab": {
          "base_uri": "https://localhost:8080/",
          "height": 1000
        },
        "outputId": "8699b520-41ae-4446-fc3d-ad6143da319a"
      },
      "source": [
        "model_vgg.summary()"
      ],
      "execution_count": 24,
      "outputs": [
        {
          "output_type": "stream",
          "text": [
            "Model: \"model_2\"\n",
            "_________________________________________________________________\n",
            "Layer (type)                 Output Shape              Param #   \n",
            "=================================================================\n",
            "input_2 (InputLayer)         (None, 28, 28, 3)         0         \n",
            "_________________________________________________________________\n",
            "up_sampling2d_1 (UpSampling2 (None, 56, 56, 3)         0         \n",
            "_________________________________________________________________\n",
            "block1_conv1 (Conv2D)        (None, 56, 56, 64)        1792      \n",
            "_________________________________________________________________\n",
            "block1_conv2 (Conv2D)        (None, 56, 56, 64)        36928     \n",
            "_________________________________________________________________\n",
            "block1_pool (MaxPooling2D)   (None, 28, 28, 64)        0         \n",
            "_________________________________________________________________\n",
            "block2_conv1 (Conv2D)        (None, 28, 28, 128)       73856     \n",
            "_________________________________________________________________\n",
            "block2_conv2 (Conv2D)        (None, 28, 28, 128)       147584    \n",
            "_________________________________________________________________\n",
            "block2_pool (MaxPooling2D)   (None, 14, 14, 128)       0         \n",
            "_________________________________________________________________\n",
            "block3_conv1 (Conv2D)        (None, 14, 14, 256)       295168    \n",
            "_________________________________________________________________\n",
            "block3_conv2 (Conv2D)        (None, 14, 14, 256)       590080    \n",
            "_________________________________________________________________\n",
            "block3_conv3 (Conv2D)        (None, 14, 14, 256)       590080    \n",
            "_________________________________________________________________\n",
            "block3_pool (MaxPooling2D)   (None, 7, 7, 256)         0         \n",
            "_________________________________________________________________\n",
            "block4_conv1 (Conv2D)        (None, 7, 7, 512)         1180160   \n",
            "_________________________________________________________________\n",
            "block4_conv2 (Conv2D)        (None, 7, 7, 512)         2359808   \n",
            "_________________________________________________________________\n",
            "block4_conv3 (Conv2D)        (None, 7, 7, 512)         2359808   \n",
            "_________________________________________________________________\n",
            "block4_pool (MaxPooling2D)   (None, 3, 3, 512)         0         \n",
            "_________________________________________________________________\n",
            "block5_conv1 (Conv2D)        (None, 3, 3, 512)         2359808   \n",
            "_________________________________________________________________\n",
            "block5_conv2 (Conv2D)        (None, 3, 3, 512)         2359808   \n",
            "_________________________________________________________________\n",
            "block5_conv3 (Conv2D)        (None, 3, 3, 512)         2359808   \n",
            "_________________________________________________________________\n",
            "block5_pool (MaxPooling2D)   (None, 1, 1, 512)         0         \n",
            "_________________________________________________________________\n",
            "global_max_pooling2d_1 (Glob (None, 512)               0         \n",
            "_________________________________________________________________\n",
            "dense_3 (Dense)              (None, 512)               262656    \n",
            "_________________________________________________________________\n",
            "dropout_3 (Dropout)          (None, 512)               0         \n",
            "_________________________________________________________________\n",
            "dense_4 (Dense)              (None, 7)                 3591      \n",
            "=================================================================\n",
            "Total params: 14,980,935\n",
            "Trainable params: 266,247\n",
            "Non-trainable params: 14,714,688\n",
            "_________________________________________________________________\n"
          ],
          "name": "stdout"
        }
      ]
    },
    {
      "cell_type": "code",
      "metadata": {
        "id": "j6-lV-VJWZST",
        "colab_type": "code",
        "colab": {
          "base_uri": "https://localhost:8080/",
          "height": 148
        },
        "outputId": "c6a86d0e-b8e1-4f8f-9042-41ffc82977fd"
      },
      "source": [
        "adam=Adam(learning_rate=0.0001)\n",
        "model_vgg.compile(optimizer=adam, loss='categorical_crossentropy',metrics=['accuracy'])\n",
        "model_vgg.fit_generator(datagen.flow(X_train,Y_train,batch_size=64),X_train.shape[0]//64,3,verbose=1)"
      ],
      "execution_count": 25,
      "outputs": [
        {
          "output_type": "stream",
          "text": [
            "Epoch 1/3\n",
            "140/140 [==============================] - 9s 67ms/step - loss: 1.2470 - accuracy: 0.6290\n",
            "Epoch 2/3\n",
            "140/140 [==============================] - 8s 60ms/step - loss: 1.0719 - accuracy: 0.6689\n",
            "Epoch 3/3\n",
            "140/140 [==============================] - 9s 62ms/step - loss: 1.0310 - accuracy: 0.6691\n"
          ],
          "name": "stdout"
        },
        {
          "output_type": "execute_result",
          "data": {
            "text/plain": [
              "<keras.callbacks.callbacks.History at 0x7f4ea31c4240>"
            ]
          },
          "metadata": {
            "tags": []
          },
          "execution_count": 25
        }
      ]
    },
    {
      "cell_type": "markdown",
      "metadata": {
        "id": "l7_mxrtw7EPJ",
        "colab_type": "text"
      },
      "source": [
        "Now we're training the entirely VGG model on our data for a few epochs in order for the model to fit our data accordingly."
      ]
    },
    {
      "cell_type": "code",
      "metadata": {
        "id": "lq8w9ipfZxsW",
        "colab_type": "code",
        "colab": {
          "base_uri": "https://localhost:8080/",
          "height": 1000
        },
        "outputId": "f98a3055-6199-4266-b88f-9f61b5cfe0c0"
      },
      "source": [
        "for layers in model_vgg.layers[:15]:\n",
        "  layers.trainable=False\n",
        "for layers in model_vgg.layers[15:]:\n",
        "   layers.trainable=True\n",
        "model_vgg.summary()"
      ],
      "execution_count": 33,
      "outputs": [
        {
          "output_type": "stream",
          "text": [
            "Model: \"model_2\"\n",
            "_________________________________________________________________\n",
            "Layer (type)                 Output Shape              Param #   \n",
            "=================================================================\n",
            "input_2 (InputLayer)         (None, 28, 28, 3)         0         \n",
            "_________________________________________________________________\n",
            "up_sampling2d_1 (UpSampling2 (None, 56, 56, 3)         0         \n",
            "_________________________________________________________________\n",
            "block1_conv1 (Conv2D)        (None, 56, 56, 64)        1792      \n",
            "_________________________________________________________________\n",
            "block1_conv2 (Conv2D)        (None, 56, 56, 64)        36928     \n",
            "_________________________________________________________________\n",
            "block1_pool (MaxPooling2D)   (None, 28, 28, 64)        0         \n",
            "_________________________________________________________________\n",
            "block2_conv1 (Conv2D)        (None, 28, 28, 128)       73856     \n",
            "_________________________________________________________________\n",
            "block2_conv2 (Conv2D)        (None, 28, 28, 128)       147584    \n",
            "_________________________________________________________________\n",
            "block2_pool (MaxPooling2D)   (None, 14, 14, 128)       0         \n",
            "_________________________________________________________________\n",
            "block3_conv1 (Conv2D)        (None, 14, 14, 256)       295168    \n",
            "_________________________________________________________________\n",
            "block3_conv2 (Conv2D)        (None, 14, 14, 256)       590080    \n",
            "_________________________________________________________________\n",
            "block3_conv3 (Conv2D)        (None, 14, 14, 256)       590080    \n",
            "_________________________________________________________________\n",
            "block3_pool (MaxPooling2D)   (None, 7, 7, 256)         0         \n",
            "_________________________________________________________________\n",
            "block4_conv1 (Conv2D)        (None, 7, 7, 512)         1180160   \n",
            "_________________________________________________________________\n",
            "block4_conv2 (Conv2D)        (None, 7, 7, 512)         2359808   \n",
            "_________________________________________________________________\n",
            "block4_conv3 (Conv2D)        (None, 7, 7, 512)         2359808   \n",
            "_________________________________________________________________\n",
            "block4_pool (MaxPooling2D)   (None, 3, 3, 512)         0         \n",
            "_________________________________________________________________\n",
            "block5_conv1 (Conv2D)        (None, 3, 3, 512)         2359808   \n",
            "_________________________________________________________________\n",
            "block5_conv2 (Conv2D)        (None, 3, 3, 512)         2359808   \n",
            "_________________________________________________________________\n",
            "block5_conv3 (Conv2D)        (None, 3, 3, 512)         2359808   \n",
            "_________________________________________________________________\n",
            "block5_pool (MaxPooling2D)   (None, 1, 1, 512)         0         \n",
            "_________________________________________________________________\n",
            "global_max_pooling2d_1 (Glob (None, 512)               0         \n",
            "_________________________________________________________________\n",
            "dense_3 (Dense)              (None, 512)               262656    \n",
            "_________________________________________________________________\n",
            "dropout_3 (Dropout)          (None, 512)               0         \n",
            "_________________________________________________________________\n",
            "dense_4 (Dense)              (None, 7)                 3591      \n",
            "=================================================================\n",
            "Total params: 14,980,935\n",
            "Trainable params: 7,345,671\n",
            "Non-trainable params: 7,635,264\n",
            "_________________________________________________________________\n"
          ],
          "name": "stdout"
        }
      ]
    },
    {
      "cell_type": "code",
      "metadata": {
        "id": "-o7s4X7RZ6mX",
        "colab_type": "code",
        "colab": {
          "base_uri": "https://localhost:8080/",
          "height": 412
        },
        "outputId": "865d8837-c6b3-43c6-f3ad-8fdd2289d00d"
      },
      "source": [
        "model_vgg.compile(optimizer=adam, loss='categorical_crossentropy',metrics=['accuracy'])\n",
        "history = model_vgg.fit_generator(datagen.flow(X_train,Y_train,batch_size=64),X_train.shape[0]//64,epochs=10,verbose=1,validation_data=(X_test,Y_test))"
      ],
      "execution_count": 27,
      "outputs": [
        {
          "output_type": "stream",
          "text": [
            "Epoch 1/10\n",
            "140/140 [==============================] - 12s 88ms/step - loss: 0.9078 - accuracy: 0.6868 - val_loss: 0.8012 - val_accuracy: 0.7066\n",
            "Epoch 2/10\n",
            "140/140 [==============================] - 11s 80ms/step - loss: 0.7840 - accuracy: 0.7216 - val_loss: 0.7491 - val_accuracy: 0.7415\n",
            "Epoch 3/10\n",
            "140/140 [==============================] - 11s 80ms/step - loss: 0.7491 - accuracy: 0.7277 - val_loss: 0.7530 - val_accuracy: 0.7166\n",
            "Epoch 4/10\n",
            "140/140 [==============================] - 11s 80ms/step - loss: 0.7394 - accuracy: 0.7327 - val_loss: 0.7110 - val_accuracy: 0.7475\n",
            "Epoch 5/10\n",
            "140/140 [==============================] - 11s 80ms/step - loss: 0.7057 - accuracy: 0.7425 - val_loss: 0.7353 - val_accuracy: 0.7295\n",
            "Epoch 6/10\n",
            "140/140 [==============================] - 11s 80ms/step - loss: 0.6957 - accuracy: 0.7460 - val_loss: 0.6985 - val_accuracy: 0.7375\n",
            "Epoch 7/10\n",
            "140/140 [==============================] - 11s 80ms/step - loss: 0.6741 - accuracy: 0.7555 - val_loss: 0.7552 - val_accuracy: 0.7166\n",
            "Epoch 8/10\n",
            "140/140 [==============================] - 11s 80ms/step - loss: 0.6724 - accuracy: 0.7515 - val_loss: 0.7003 - val_accuracy: 0.7585\n",
            "Epoch 9/10\n",
            "140/140 [==============================] - 11s 80ms/step - loss: 0.6703 - accuracy: 0.7555 - val_loss: 0.6865 - val_accuracy: 0.7435\n",
            "Epoch 10/10\n",
            "140/140 [==============================] - 11s 79ms/step - loss: 0.6485 - accuracy: 0.7633 - val_loss: 0.7468 - val_accuracy: 0.7365\n"
          ],
          "name": "stdout"
        }
      ]
    },
    {
      "cell_type": "code",
      "metadata": {
        "id": "NzwFdbIYdbJN",
        "colab_type": "code",
        "colab": {
          "base_uri": "https://localhost:8080/",
          "height": 73
        },
        "outputId": "9adb7699-5e6c-4192-c42a-cd6b848bb007"
      },
      "source": [
        "lossVGG,scoreVGG = model_vgg.evaluate(X_test,Y_test,verbose=1)\n",
        "print(\"Loss for VGG is: {}\\nAccuracy for VGG is: {}\".format(lossVGG,scoreVGG))"
      ],
      "execution_count": 28,
      "outputs": [
        {
          "output_type": "stream",
          "text": [
            "1002/1002 [==============================] - 2s 2ms/step\n",
            "Loss for VGG is: 0.7468470193430811\n",
            "Accuracy for VGG is: 0.7365269660949707\n"
          ],
          "name": "stdout"
        }
      ]
    },
    {
      "cell_type": "markdown",
      "metadata": {
        "id": "4HFky-ZS-jd2",
        "colab_type": "text"
      },
      "source": [
        "As you can see, the vgg predicted test data with an accuracy of 73%. The accuracy can be easily increased by having a bigger dataset."
      ]
    },
    {
      "cell_type": "code",
      "metadata": {
        "id": "HJtrFQLfaH9B",
        "colab_type": "code",
        "colab": {
          "base_uri": "https://localhost:8080/",
          "height": 279
        },
        "outputId": "1f6fa81a-ba16-45ba-ed4e-49410db916a0"
      },
      "source": [
        "plt.plot(history.history['accuracy'])\n",
        "plt.xlabel('Epochs')\n",
        "plt.ylabel('Accuracy')\n",
        "plt.show()"
      ],
      "execution_count": 29,
      "outputs": [
        {
          "output_type": "display_data",
          "data": {
            "image/png": "[encoded data removed]",
            "text/plain": [
              "<Figure size 432x288 with 1 Axes>"
            ]
          },
          "metadata": {
            "tags": [],
            "needs_background": "light"
          }
        }
      ]
    },
    {
      "cell_type": "code",
      "metadata": {
        "id": "p7kgcmYRaTW2",
        "colab_type": "code",
        "colab": {
          "base_uri": "https://localhost:8080/",
          "height": 279
        },
        "outputId": "4831b395-46be-4c36-9c13-cbe4658d26f8"
      },
      "source": [
        "plt.plot(history.history['loss'])\n",
        "plt.xlabel('Epochs')\n",
        "plt.ylabel('Loss')\n",
        "plt.show()"
      ],
      "execution_count": 30,
      "outputs": [
        {
          "output_type": "display_data",
          "data": {
            "image/png": "[encoded data removed]",
            "text/plain": [
              "<Figure size 432x288 with 1 Axes>"
            ]
          },
          "metadata": {
            "tags": [],
            "needs_background": "light"
          }
        }
      ]
    },
    {
      "cell_type": "code",
      "metadata": {
        "id": "piZ4HqCSkInY",
        "colab_type": "code",
        "colab": {}
      },
      "source": [
        "accuracy.append({'VGG':scoreVGG})\n",
        "model_vgg.save('modelVGG.h5')"
      ],
      "execution_count": 31,
      "outputs": []
    },
    {
      "cell_type": "code",
      "metadata": {
        "id": "jw4HamJCDw4t",
        "colab_type": "code",
        "colab": {}
      },
      "source": [
        "import json\n",
        "with open('./accuracies.json','w') as f:\n",
        "    json.dump(accuracy,f)"
      ],
      "execution_count": 32,
      "outputs": []
    },
    {
      "cell_type": "markdown",
      "metadata": {
        "id": "fe3vIFu0aV1o",
        "colab_type": "text"
      },
      "source": [
        "#GUI\n",
        "---\n",
        "GUI is produced by Mutahhar bin Muzaffar and is demonstrated in the video."
      ]
    },
    {
      "cell_type": "code",
      "metadata": {
        "id": "3VAGvRuK_Wlc",
        "colab_type": "code",
        "colab": {}
      },
      "source": [
        ""
      ],
      "execution_count": null,
      "outputs": []
    }
  ]
}