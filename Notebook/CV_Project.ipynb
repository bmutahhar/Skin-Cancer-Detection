{
  "nbformat": 4,
  "nbformat_minor": 0,
  "metadata": {
    "colab": {
      "name": "CV_Project.ipynb",
      "provenance": [],
      "collapsed_sections": []
    },
    "kernelspec": {
      "name": "python3",
      "display_name": "Python 3"
    },
    "accelerator": "GPU"
  },
  "cells": [
    {
      "cell_type": "markdown",
      "metadata": {
        "id": "glmBQOm2aebu",
        "colab_type": "text"
      },
      "source": [
        "# <center>**Computer Vision Project**</center>\n",
        "## <center><i>**Skin Cancer Detection**</i></center>\n",
        "---\n",
        "### <center>Submitted by:<center>\n",
        "###<center>1. Mutahhar bin Muzaffar<br>&nbsp; &nbsp;&nbsp;FA17-BCS-058</center>\n",
        "###<center>2. Sher Alam<br>&nbsp; &nbsp;&nbsp;FA17-BCS-082</center>"
      ]
    },
    {
      "cell_type": "markdown",
      "metadata": {
        "id": "Bs2AlM-fkfD_",
        "colab_type": "text"
      },
      "source": [
        "# Importing Libraries"
      ]
    },
    {
      "cell_type": "code",
      "metadata": {
        "id": "RoHNo9rfkeeB",
        "colab_type": "code",
        "colab": {}
      },
      "source": [
        "import pandas as pd\n",
        "import numpy as np\n",
        "from sklearn.model_selection import train_test_split\n",
        "import keras\n",
        "from keras.utils.np_utils import to_categorical\n",
        "from keras.layers import Conv2D,MaxPooling2D,Dense,BatchNormalization,ZeroPadding2D,Flatten,Input,Dropout,Activation,UpSampling2D,GlobalMaxPooling2D\n",
        "from keras.models import Model\n",
        "from keras.optimizers import Adam,SGD\n",
        "from keras.regularizers import l2\n",
        "from keras.applications import VGG16\n",
        "from keras.preprocessing.image import ImageDataGenerator\n",
        "from keras.callbacks import ReduceLROnPlateau\n",
        "import matplotlib.pyplot as plt\n",
        "import cv2\n",
        "\n"
      ],
      "execution_count": 145,
      "outputs": []
    },
    {
      "cell_type": "code",
      "metadata": {
        "id": "BkNs_Pvrw05b",
        "colab_type": "code",
        "colab": {
          "base_uri": "https://localhost:8080/",
          "height": 55
        },
        "outputId": "73a15a18-7937-4fd1-8e2e-ce6324a45d01"
      },
      "source": [
        "from google.colab import drive\n",
        "drive.mount('/content/drive')"
      ],
      "execution_count": 146,
      "outputs": [
        {
          "output_type": "stream",
          "text": [
            "Drive already mounted at /content/drive; to attempt to forcibly remount, call drive.mount(\"/content/drive\", force_remount=True).\n"
          ],
          "name": "stdout"
        }
      ]
    },
    {
      "cell_type": "markdown",
      "metadata": {
        "id": "MPzr4unGXzUN",
        "colab_type": "text"
      },
      "source": [
        "# Preprocessing Data"
      ]
    },
    {
      "cell_type": "markdown",
      "metadata": {
        "id": "maRByxRGdCrW",
        "colab_type": "text"
      },
      "source": [
        "We loaded the dataset from our google drive as this file was quite big in size. The dataset we loaded consists of 28x28x3=2352+1 columns  and 10,000 rows. Each row represents a sample from the dataset whereas each column represents a specific pixel value. The last column represent the label encoding for each sample respectively. The dataset consists of label encoding for 7 types of cancer namely `Actinic Keratose`,`Basal Cell Carcinoma`,`enign Keratosis-like Lesion`,`Dermatofibroma`,`Melanocytic Nevi`,`Vascular Lesion`,`Melonoma`."
      ]
    },
    {
      "cell_type": "code",
      "metadata": {
        "id": "rR621b2lS9gr",
        "colab_type": "code",
        "colab": {
          "base_uri": "https://localhost:8080/",
          "height": 256
        },
        "outputId": "639d4abf-f73c-4154-ab05-2d4f7ea3b7cb"
      },
      "source": [
        "data=pd.read_csv('/content/drive/My Drive/Datasets/MINIST HAM 10000/hmnist_28_28_RGB.csv',engine='python')\n",
        "data.head()"
      ],
      "execution_count": 147,
      "outputs": [
        {
          "output_type": "execute_result",
          "data": {
            "text/html": [
              "<div>\n",
              "<style scoped>\n",
              "    .dataframe tbody tr th:only-of-type {\n",
              "        vertical-align: middle;\n",
              "    }\n",
              "\n",
              "    .dataframe tbody tr th {\n",
              "        vertical-align: top;\n",
              "    }\n",
              "\n",
              "    .dataframe thead th {\n",
              "        text-align: right;\n",
              "    }\n",
              "</style>\n",
              "<table border=\"1\" class=\"dataframe\">\n",
              "  <thead>\n",
              "    <tr style=\"text-align: right;\">\n",
              "      <th></th>\n",
              "      <th>pixel0000</th>\n",
              "      <th>pixel0001</th>\n",
              "      <th>pixel0002</th>\n",
              "      <th>pixel0003</th>\n",
              "      <th>pixel0004</th>\n",
              "      <th>pixel0005</th>\n",
              "      <th>pixel0006</th>\n",
              "      <th>pixel0007</th>\n",
              "      <th>pixel0008</th>\n",
              "      <th>pixel0009</th>\n",
              "      <th>pixel0010</th>\n",
              "      <th>pixel0011</th>\n",
              "      <th>pixel0012</th>\n",
              "      <th>pixel0013</th>\n",
              "      <th>pixel0014</th>\n",
              "      <th>pixel0015</th>\n",
              "      <th>pixel0016</th>\n",
              "      <th>pixel0017</th>\n",
              "      <th>pixel0018</th>\n",
              "      <th>pixel0019</th>\n",
              "      <th>pixel0020</th>\n",
              "      <th>pixel0021</th>\n",
              "      <th>pixel0022</th>\n",
              "      <th>pixel0023</th>\n",
              "      <th>pixel0024</th>\n",
              "      <th>pixel0025</th>\n",
              "      <th>pixel0026</th>\n",
              "      <th>pixel0027</th>\n",
              "      <th>pixel0028</th>\n",
              "      <th>pixel0029</th>\n",
              "      <th>pixel0030</th>\n",
              "      <th>pixel0031</th>\n",
              "      <th>pixel0032</th>\n",
              "      <th>pixel0033</th>\n",
              "      <th>pixel0034</th>\n",
              "      <th>pixel0035</th>\n",
              "      <th>pixel0036</th>\n",
              "      <th>pixel0037</th>\n",
              "      <th>pixel0038</th>\n",
              "      <th>pixel0039</th>\n",
              "      <th>...</th>\n",
              "      <th>pixel2313</th>\n",
              "      <th>pixel2314</th>\n",
              "      <th>pixel2315</th>\n",
              "      <th>pixel2316</th>\n",
              "      <th>pixel2317</th>\n",
              "      <th>pixel2318</th>\n",
              "      <th>pixel2319</th>\n",
              "      <th>pixel2320</th>\n",
              "      <th>pixel2321</th>\n",
              "      <th>pixel2322</th>\n",
              "      <th>pixel2323</th>\n",
              "      <th>pixel2324</th>\n",
              "      <th>pixel2325</th>\n",
              "      <th>pixel2326</th>\n",
              "      <th>pixel2327</th>\n",
              "      <th>pixel2328</th>\n",
              "      <th>pixel2329</th>\n",
              "      <th>pixel2330</th>\n",
              "      <th>pixel2331</th>\n",
              "      <th>pixel2332</th>\n",
              "      <th>pixel2333</th>\n",
              "      <th>pixel2334</th>\n",
              "      <th>pixel2335</th>\n",
              "      <th>pixel2336</th>\n",
              "      <th>pixel2337</th>\n",
              "      <th>pixel2338</th>\n",
              "      <th>pixel2339</th>\n",
              "      <th>pixel2340</th>\n",
              "      <th>pixel2341</th>\n",
              "      <th>pixel2342</th>\n",
              "      <th>pixel2343</th>\n",
              "      <th>pixel2344</th>\n",
              "      <th>pixel2345</th>\n",
              "      <th>pixel2346</th>\n",
              "      <th>pixel2347</th>\n",
              "      <th>pixel2348</th>\n",
              "      <th>pixel2349</th>\n",
              "      <th>pixel2350</th>\n",
              "      <th>pixel2351</th>\n",
              "      <th>label</th>\n",
              "    </tr>\n",
              "  </thead>\n",
              "  <tbody>\n",
              "    <tr>\n",
              "      <th>0</th>\n",
              "      <td>192</td>\n",
              "      <td>153</td>\n",
              "      <td>193</td>\n",
              "      <td>195</td>\n",
              "      <td>155</td>\n",
              "      <td>192</td>\n",
              "      <td>197</td>\n",
              "      <td>154</td>\n",
              "      <td>185</td>\n",
              "      <td>202</td>\n",
              "      <td>162</td>\n",
              "      <td>192</td>\n",
              "      <td>208</td>\n",
              "      <td>165</td>\n",
              "      <td>201</td>\n",
              "      <td>209</td>\n",
              "      <td>165</td>\n",
              "      <td>205</td>\n",
              "      <td>208</td>\n",
              "      <td>165</td>\n",
              "      <td>194</td>\n",
              "      <td>212</td>\n",
              "      <td>169</td>\n",
              "      <td>198</td>\n",
              "      <td>216</td>\n",
              "      <td>181</td>\n",
              "      <td>204</td>\n",
              "      <td>216</td>\n",
              "      <td>178</td>\n",
              "      <td>204</td>\n",
              "      <td>215</td>\n",
              "      <td>172</td>\n",
              "      <td>205</td>\n",
              "      <td>217</td>\n",
              "      <td>173</td>\n",
              "      <td>209</td>\n",
              "      <td>217</td>\n",
              "      <td>166</td>\n",
              "      <td>202</td>\n",
              "      <td>214</td>\n",
              "      <td>...</td>\n",
              "      <td>216</td>\n",
              "      <td>181</td>\n",
              "      <td>212</td>\n",
              "      <td>215</td>\n",
              "      <td>176</td>\n",
              "      <td>208</td>\n",
              "      <td>213</td>\n",
              "      <td>168</td>\n",
              "      <td>191</td>\n",
              "      <td>209</td>\n",
              "      <td>159</td>\n",
              "      <td>184</td>\n",
              "      <td>212</td>\n",
              "      <td>168</td>\n",
              "      <td>194</td>\n",
              "      <td>212</td>\n",
              "      <td>172</td>\n",
              "      <td>198</td>\n",
              "      <td>208</td>\n",
              "      <td>173</td>\n",
              "      <td>193</td>\n",
              "      <td>203</td>\n",
              "      <td>168</td>\n",
              "      <td>183</td>\n",
              "      <td>190</td>\n",
              "      <td>142</td>\n",
              "      <td>152</td>\n",
              "      <td>177</td>\n",
              "      <td>123</td>\n",
              "      <td>134</td>\n",
              "      <td>173</td>\n",
              "      <td>124</td>\n",
              "      <td>138</td>\n",
              "      <td>183</td>\n",
              "      <td>147</td>\n",
              "      <td>166</td>\n",
              "      <td>185</td>\n",
              "      <td>154</td>\n",
              "      <td>177</td>\n",
              "      <td>2</td>\n",
              "    </tr>\n",
              "    <tr>\n",
              "      <th>1</th>\n",
              "      <td>25</td>\n",
              "      <td>14</td>\n",
              "      <td>30</td>\n",
              "      <td>68</td>\n",
              "      <td>48</td>\n",
              "      <td>75</td>\n",
              "      <td>123</td>\n",
              "      <td>93</td>\n",
              "      <td>126</td>\n",
              "      <td>158</td>\n",
              "      <td>128</td>\n",
              "      <td>158</td>\n",
              "      <td>172</td>\n",
              "      <td>136</td>\n",
              "      <td>162</td>\n",
              "      <td>175</td>\n",
              "      <td>134</td>\n",
              "      <td>157</td>\n",
              "      <td>177</td>\n",
              "      <td>126</td>\n",
              "      <td>158</td>\n",
              "      <td>186</td>\n",
              "      <td>138</td>\n",
              "      <td>163</td>\n",
              "      <td>197</td>\n",
              "      <td>153</td>\n",
              "      <td>187</td>\n",
              "      <td>198</td>\n",
              "      <td>153</td>\n",
              "      <td>186</td>\n",
              "      <td>203</td>\n",
              "      <td>168</td>\n",
              "      <td>206</td>\n",
              "      <td>205</td>\n",
              "      <td>169</td>\n",
              "      <td>204</td>\n",
              "      <td>207</td>\n",
              "      <td>164</td>\n",
              "      <td>199</td>\n",
              "      <td>205</td>\n",
              "      <td>...</td>\n",
              "      <td>209</td>\n",
              "      <td>176</td>\n",
              "      <td>203</td>\n",
              "      <td>207</td>\n",
              "      <td>171</td>\n",
              "      <td>191</td>\n",
              "      <td>208</td>\n",
              "      <td>172</td>\n",
              "      <td>197</td>\n",
              "      <td>205</td>\n",
              "      <td>169</td>\n",
              "      <td>188</td>\n",
              "      <td>198</td>\n",
              "      <td>159</td>\n",
              "      <td>172</td>\n",
              "      <td>200</td>\n",
              "      <td>159</td>\n",
              "      <td>192</td>\n",
              "      <td>191</td>\n",
              "      <td>140</td>\n",
              "      <td>182</td>\n",
              "      <td>177</td>\n",
              "      <td>128</td>\n",
              "      <td>141</td>\n",
              "      <td>147</td>\n",
              "      <td>101</td>\n",
              "      <td>97</td>\n",
              "      <td>113</td>\n",
              "      <td>79</td>\n",
              "      <td>82</td>\n",
              "      <td>60</td>\n",
              "      <td>39</td>\n",
              "      <td>55</td>\n",
              "      <td>25</td>\n",
              "      <td>14</td>\n",
              "      <td>28</td>\n",
              "      <td>25</td>\n",
              "      <td>14</td>\n",
              "      <td>27</td>\n",
              "      <td>2</td>\n",
              "    </tr>\n",
              "    <tr>\n",
              "      <th>2</th>\n",
              "      <td>192</td>\n",
              "      <td>138</td>\n",
              "      <td>153</td>\n",
              "      <td>200</td>\n",
              "      <td>145</td>\n",
              "      <td>163</td>\n",
              "      <td>201</td>\n",
              "      <td>142</td>\n",
              "      <td>160</td>\n",
              "      <td>206</td>\n",
              "      <td>149</td>\n",
              "      <td>165</td>\n",
              "      <td>207</td>\n",
              "      <td>149</td>\n",
              "      <td>159</td>\n",
              "      <td>209</td>\n",
              "      <td>156</td>\n",
              "      <td>164</td>\n",
              "      <td>202</td>\n",
              "      <td>136</td>\n",
              "      <td>130</td>\n",
              "      <td>200</td>\n",
              "      <td>133</td>\n",
              "      <td>129</td>\n",
              "      <td>208</td>\n",
              "      <td>146</td>\n",
              "      <td>157</td>\n",
              "      <td>212</td>\n",
              "      <td>159</td>\n",
              "      <td>167</td>\n",
              "      <td>214</td>\n",
              "      <td>157</td>\n",
              "      <td>168</td>\n",
              "      <td>211</td>\n",
              "      <td>143</td>\n",
              "      <td>150</td>\n",
              "      <td>215</td>\n",
              "      <td>148</td>\n",
              "      <td>169</td>\n",
              "      <td>213</td>\n",
              "      <td>...</td>\n",
              "      <td>221</td>\n",
              "      <td>168</td>\n",
              "      <td>175</td>\n",
              "      <td>222</td>\n",
              "      <td>170</td>\n",
              "      <td>188</td>\n",
              "      <td>221</td>\n",
              "      <td>167</td>\n",
              "      <td>184</td>\n",
              "      <td>203</td>\n",
              "      <td>144</td>\n",
              "      <td>155</td>\n",
              "      <td>201</td>\n",
              "      <td>146</td>\n",
              "      <td>155</td>\n",
              "      <td>210</td>\n",
              "      <td>163</td>\n",
              "      <td>177</td>\n",
              "      <td>190</td>\n",
              "      <td>142</td>\n",
              "      <td>152</td>\n",
              "      <td>192</td>\n",
              "      <td>152</td>\n",
              "      <td>172</td>\n",
              "      <td>194</td>\n",
              "      <td>153</td>\n",
              "      <td>176</td>\n",
              "      <td>178</td>\n",
              "      <td>134</td>\n",
              "      <td>149</td>\n",
              "      <td>167</td>\n",
              "      <td>129</td>\n",
              "      <td>143</td>\n",
              "      <td>159</td>\n",
              "      <td>124</td>\n",
              "      <td>142</td>\n",
              "      <td>136</td>\n",
              "      <td>104</td>\n",
              "      <td>117</td>\n",
              "      <td>2</td>\n",
              "    </tr>\n",
              "    <tr>\n",
              "      <th>3</th>\n",
              "      <td>38</td>\n",
              "      <td>19</td>\n",
              "      <td>30</td>\n",
              "      <td>95</td>\n",
              "      <td>59</td>\n",
              "      <td>72</td>\n",
              "      <td>143</td>\n",
              "      <td>103</td>\n",
              "      <td>119</td>\n",
              "      <td>171</td>\n",
              "      <td>125</td>\n",
              "      <td>134</td>\n",
              "      <td>177</td>\n",
              "      <td>118</td>\n",
              "      <td>123</td>\n",
              "      <td>190</td>\n",
              "      <td>137</td>\n",
              "      <td>146</td>\n",
              "      <td>192</td>\n",
              "      <td>127</td>\n",
              "      <td>143</td>\n",
              "      <td>200</td>\n",
              "      <td>141</td>\n",
              "      <td>162</td>\n",
              "      <td>207</td>\n",
              "      <td>156</td>\n",
              "      <td>170</td>\n",
              "      <td>202</td>\n",
              "      <td>144</td>\n",
              "      <td>151</td>\n",
              "      <td>202</td>\n",
              "      <td>138</td>\n",
              "      <td>155</td>\n",
              "      <td>212</td>\n",
              "      <td>159</td>\n",
              "      <td>177</td>\n",
              "      <td>211</td>\n",
              "      <td>155</td>\n",
              "      <td>172</td>\n",
              "      <td>211</td>\n",
              "      <td>...</td>\n",
              "      <td>181</td>\n",
              "      <td>137</td>\n",
              "      <td>145</td>\n",
              "      <td>189</td>\n",
              "      <td>147</td>\n",
              "      <td>166</td>\n",
              "      <td>192</td>\n",
              "      <td>157</td>\n",
              "      <td>185</td>\n",
              "      <td>169</td>\n",
              "      <td>129</td>\n",
              "      <td>144</td>\n",
              "      <td>148</td>\n",
              "      <td>114</td>\n",
              "      <td>122</td>\n",
              "      <td>157</td>\n",
              "      <td>125</td>\n",
              "      <td>137</td>\n",
              "      <td>157</td>\n",
              "      <td>127</td>\n",
              "      <td>147</td>\n",
              "      <td>154</td>\n",
              "      <td>128</td>\n",
              "      <td>147</td>\n",
              "      <td>130</td>\n",
              "      <td>102</td>\n",
              "      <td>114</td>\n",
              "      <td>87</td>\n",
              "      <td>63</td>\n",
              "      <td>73</td>\n",
              "      <td>44</td>\n",
              "      <td>26</td>\n",
              "      <td>36</td>\n",
              "      <td>25</td>\n",
              "      <td>12</td>\n",
              "      <td>17</td>\n",
              "      <td>25</td>\n",
              "      <td>12</td>\n",
              "      <td>15</td>\n",
              "      <td>2</td>\n",
              "    </tr>\n",
              "    <tr>\n",
              "      <th>4</th>\n",
              "      <td>158</td>\n",
              "      <td>113</td>\n",
              "      <td>139</td>\n",
              "      <td>194</td>\n",
              "      <td>144</td>\n",
              "      <td>174</td>\n",
              "      <td>215</td>\n",
              "      <td>162</td>\n",
              "      <td>191</td>\n",
              "      <td>225</td>\n",
              "      <td>179</td>\n",
              "      <td>214</td>\n",
              "      <td>232</td>\n",
              "      <td>189</td>\n",
              "      <td>222</td>\n",
              "      <td>235</td>\n",
              "      <td>193</td>\n",
              "      <td>219</td>\n",
              "      <td>234</td>\n",
              "      <td>191</td>\n",
              "      <td>206</td>\n",
              "      <td>238</td>\n",
              "      <td>200</td>\n",
              "      <td>219</td>\n",
              "      <td>244</td>\n",
              "      <td>213</td>\n",
              "      <td>240</td>\n",
              "      <td>243</td>\n",
              "      <td>213</td>\n",
              "      <td>239</td>\n",
              "      <td>242</td>\n",
              "      <td>210</td>\n",
              "      <td>238</td>\n",
              "      <td>244</td>\n",
              "      <td>216</td>\n",
              "      <td>241</td>\n",
              "      <td>247</td>\n",
              "      <td>224</td>\n",
              "      <td>244</td>\n",
              "      <td>246</td>\n",
              "      <td>...</td>\n",
              "      <td>238</td>\n",
              "      <td>195</td>\n",
              "      <td>209</td>\n",
              "      <td>237</td>\n",
              "      <td>191</td>\n",
              "      <td>200</td>\n",
              "      <td>238</td>\n",
              "      <td>194</td>\n",
              "      <td>201</td>\n",
              "      <td>239</td>\n",
              "      <td>197</td>\n",
              "      <td>216</td>\n",
              "      <td>238</td>\n",
              "      <td>195</td>\n",
              "      <td>219</td>\n",
              "      <td>232</td>\n",
              "      <td>179</td>\n",
              "      <td>201</td>\n",
              "      <td>217</td>\n",
              "      <td>150</td>\n",
              "      <td>173</td>\n",
              "      <td>224</td>\n",
              "      <td>171</td>\n",
              "      <td>207</td>\n",
              "      <td>227</td>\n",
              "      <td>177</td>\n",
              "      <td>206</td>\n",
              "      <td>222</td>\n",
              "      <td>178</td>\n",
              "      <td>201</td>\n",
              "      <td>209</td>\n",
              "      <td>166</td>\n",
              "      <td>185</td>\n",
              "      <td>172</td>\n",
              "      <td>135</td>\n",
              "      <td>149</td>\n",
              "      <td>109</td>\n",
              "      <td>78</td>\n",
              "      <td>92</td>\n",
              "      <td>2</td>\n",
              "    </tr>\n",
              "  </tbody>\n",
              "</table>\n",
              "<p>5 rows × 2353 columns</p>\n",
              "</div>"
            ],
            "text/plain": [
              "   pixel0000  pixel0001  pixel0002  ...  pixel2350  pixel2351  label\n",
              "0        192        153        193  ...        154        177      2\n",
              "1         25         14         30  ...         14         27      2\n",
              "2        192        138        153  ...        104        117      2\n",
              "3         38         19         30  ...         12         15      2\n",
              "4        158        113        139  ...         78         92      2\n",
              "\n",
              "[5 rows x 2353 columns]"
            ]
          },
          "metadata": {
            "tags": []
          },
          "execution_count": 147
        }
      ]
    },
    {
      "cell_type": "markdown",
      "metadata": {
        "id": "D5jeJEmbdsa2",
        "colab_type": "text"
      },
      "source": [
        "To avoid in consistent results, we have to check whether our dataset contains any missing or infinite values. Luckily, as you can see, our dataset doesn't contain any sort of missing or infinite values."
      ]
    },
    {
      "cell_type": "code",
      "metadata": {
        "id": "iXDbNrFjdU0q",
        "colab_type": "code",
        "colab": {
          "base_uri": "https://localhost:8080/",
          "height": 72
        },
        "outputId": "53bf4803-9dd4-46e8-b81e-73b9f00c7298"
      },
      "source": [
        "data.replace(to_replace=[np.inf,-np.inf],value=np.nan,inplace=True)\n",
        "data.dropna(inplace=True)\n",
        "print(\"Dataframe shape after dropping na/inf: {}\".format(data.shape))\n",
        "print(\"Does dataframe still have inf values: {}\".format(np.any(np.isinf(data))))\n",
        "print(\"Does dataframe still have nan values: {}\".format(np.any(np.isnan(data))))"
      ],
      "execution_count": 148,
      "outputs": [
        {
          "output_type": "stream",
          "text": [
            "Dataframe shape after dropping na/inf: (10015, 2353)\n",
            "Does dataframe still have inf values: False\n",
            "Does dataframe still have nan values: False\n"
          ],
          "name": "stdout"
        }
      ]
    },
    {
      "cell_type": "markdown",
      "metadata": {
        "id": "rZ9WLrf7TA-U",
        "colab_type": "text"
      },
      "source": [
        "The dataset contains a column 'Labels' having numeric code like 0,1,2 i.e. Label Encoding. To display the total counts of sample per cancer class, we have to remove label encoding by placing the subsequent dictionaries."
      ]
    },
    {
      "cell_type": "code",
      "metadata": {
        "id": "O_j6E7g1VSOl",
        "colab_type": "code",
        "colab": {
          "base_uri": "https://localhost:8080/",
          "height": 206
        },
        "outputId": "9270c10b-b231-4d5d-c4a1-4174b2eb4447"
      },
      "source": [
        " labels_dict={\n",
        "    0:'akiec',\n",
        "    1:'bcc',\n",
        "    2:'bkl',\n",
        "    3:'df',\n",
        "    4:\"nv\",\n",
        "    5:'vasc',\n",
        "    6:'mel',\n",
        "}\n",
        "lesion_type_dict={\n",
        "        'akiec':'Actinic Keratose',\n",
        "        'bcc':'Basal Cell Carcinoma',\n",
        "        'bkl':'Benign Keratosis-like Lesion',\n",
        "        'df':'Dermatofibroma',\n",
        "        'nv':'Melanocytic Nevi',\n",
        "        'vasc':'Vascular Lesion',\n",
        "        'mel':'Melonoma'\n",
        "}\n",
        "stats_df = pd.DataFrame({'Labels':data.label})\n",
        "stats_df['Label_Codes'] = stats_df.Labels.map(labels_dict.get)\n",
        "stats_df['Labels_Names'] = stats_df.Label_Codes.map(lesion_type_dict.get)\n",
        "stats_df.head()"
      ],
      "execution_count": 149,
      "outputs": [
        {
          "output_type": "execute_result",
          "data": {
            "text/html": [
              "<div>\n",
              "<style scoped>\n",
              "    .dataframe tbody tr th:only-of-type {\n",
              "        vertical-align: middle;\n",
              "    }\n",
              "\n",
              "    .dataframe tbody tr th {\n",
              "        vertical-align: top;\n",
              "    }\n",
              "\n",
              "    .dataframe thead th {\n",
              "        text-align: right;\n",
              "    }\n",
              "</style>\n",
              "<table border=\"1\" class=\"dataframe\">\n",
              "  <thead>\n",
              "    <tr style=\"text-align: right;\">\n",
              "      <th></th>\n",
              "      <th>Labels</th>\n",
              "      <th>Label_Codes</th>\n",
              "      <th>Labels_Names</th>\n",
              "    </tr>\n",
              "  </thead>\n",
              "  <tbody>\n",
              "    <tr>\n",
              "      <th>0</th>\n",
              "      <td>2</td>\n",
              "      <td>bkl</td>\n",
              "      <td>Benign Keratosis-like Lesion</td>\n",
              "    </tr>\n",
              "    <tr>\n",
              "      <th>1</th>\n",
              "      <td>2</td>\n",
              "      <td>bkl</td>\n",
              "      <td>Benign Keratosis-like Lesion</td>\n",
              "    </tr>\n",
              "    <tr>\n",
              "      <th>2</th>\n",
              "      <td>2</td>\n",
              "      <td>bkl</td>\n",
              "      <td>Benign Keratosis-like Lesion</td>\n",
              "    </tr>\n",
              "    <tr>\n",
              "      <th>3</th>\n",
              "      <td>2</td>\n",
              "      <td>bkl</td>\n",
              "      <td>Benign Keratosis-like Lesion</td>\n",
              "    </tr>\n",
              "    <tr>\n",
              "      <th>4</th>\n",
              "      <td>2</td>\n",
              "      <td>bkl</td>\n",
              "      <td>Benign Keratosis-like Lesion</td>\n",
              "    </tr>\n",
              "  </tbody>\n",
              "</table>\n",
              "</div>"
            ],
            "text/plain": [
              "   Labels Label_Codes                  Labels_Names\n",
              "0       2         bkl  Benign Keratosis-like Lesion\n",
              "1       2         bkl  Benign Keratosis-like Lesion\n",
              "2       2         bkl  Benign Keratosis-like Lesion\n",
              "3       2         bkl  Benign Keratosis-like Lesion\n",
              "4       2         bkl  Benign Keratosis-like Lesion"
            ]
          },
          "metadata": {
            "tags": []
          },
          "execution_count": 149
        }
      ]
    },
    {
      "cell_type": "markdown",
      "metadata": {
        "id": "FsxLOHltTnVi",
        "colab_type": "text"
      },
      "source": [
        "As you can see below, we have the highest count of samples for `Melanocytic Nevi`."
      ]
    },
    {
      "cell_type": "code",
      "metadata": {
        "id": "Dtj3W4uyWf62",
        "colab_type": "code",
        "colab": {
          "base_uri": "https://localhost:8080/",
          "height": 470
        },
        "outputId": "085cf680-e525-47a2-b931-ec5b80f89983"
      },
      "source": [
        "_, ax = plt.subplots(1,1,figsize=(10,5))\n",
        "stats_df['Labels_Names'].value_counts().plot(kind='bar',ax=ax)"
      ],
      "execution_count": 150,
      "outputs": [
        {
          "output_type": "execute_result",
          "data": {
            "text/plain": [
              "<matplotlib.axes._subplots.AxesSubplot at 0x7f7f2d736e48>"
            ]
          },
          "metadata": {
            "tags": []
          },
          "execution_count": 150
        },
        {
          "output_type": "display_data",
          "data": {
            "image/png": "[encoded data removed]",
            "text/plain": [
              "<Figure size 720x360 with 1 Axes>"
            ]
          },
          "metadata": {
            "tags": [],
            "needs_background": "light"
          }
        }
      ]
    },
    {
      "cell_type": "markdown",
      "metadata": {
        "id": "p2eJxqZ6W8GH",
        "colab_type": "text"
      },
      "source": [
        "Below We have displayed at least 5 samples from each class of skin cancer"
      ]
    },
    {
      "cell_type": "code",
      "metadata": {
        "id": "srf33q-mStP_",
        "colab_type": "code",
        "colab": {
          "base_uri": "https://localhost:8080/",
          "height": 1000
        },
        "outputId": "6022e6a6-a64c-46fa-e707-9c15c88b9fca"
      },
      "source": [
        "samples = 5\n",
        "fig, m_axes = plt.subplots(7,samples,figsize=(4*samples,3*7))\n",
        "for n_axes,(type_label,type_rows) in zip(m_axes,data.sort_values(['label']).groupby('label')):\n",
        "    n_axes[0].set_title(lesion_type_dict.get(labels_dict.get(type_label)))\n",
        "    for c_ax, (_,c_row) in zip(n_axes,type_rows.sample(samples,random_state=1234).iterrows()):\n",
        "        c_ax.imshow(c_row.iloc[0:-1].values.reshape(28,28,3))\n",
        "        c_ax.axis('off')"
      ],
      "execution_count": 151,
      "outputs": [
        {
          "output_type": "display_data",
          "data": {
            "image/png": "[encoded data removed]",
            "text/plain": [
              "<Figure size 1440x1512 with 35 Axes>"
            ]
          },
          "metadata": {
            "tags": [],
            "needs_background": "light"
          }
        }
      ]
    },
    {
      "cell_type": "markdown",
      "metadata": {
        "id": "OAUTaIlNUI3A",
        "colab_type": "text"
      },
      "source": [
        "Now we will preprocess our data and prepare it to divide into train and test set."
      ]
    },
    {
      "cell_type": "code",
      "metadata": {
        "id": "BBLr3F_rVIYa",
        "colab_type": "code",
        "colab": {
          "base_uri": "https://localhost:8080/",
          "height": 35
        },
        "outputId": "5e0cb3e7-cde5-415e-c687-37f3c25161cd"
      },
      "source": [
        "X=data.drop(\"label\", axis=1).values\n",
        "Y=data.label\n",
        "X.shape,Y.shape"
      ],
      "execution_count": 152,
      "outputs": [
        {
          "output_type": "execute_result",
          "data": {
            "text/plain": [
              "((10015, 2352), (10015,))"
            ]
          },
          "metadata": {
            "tags": []
          },
          "execution_count": 152
        }
      ]
    },
    {
      "cell_type": "code",
      "metadata": {
        "id": "ekwMc5YTWB7n",
        "colab_type": "code",
        "colab": {
          "base_uri": "https://localhost:8080/",
          "height": 35
        },
        "outputId": "76cc3c3a-494a-42ea-a774-b6d214d0ccdf"
      },
      "source": [
        "X=X/255\n",
        "X=X.reshape(-1,28,28,3)\n",
        "X.shape"
      ],
      "execution_count": 153,
      "outputs": [
        {
          "output_type": "execute_result",
          "data": {
            "text/plain": [
              "(10015, 28, 28, 3)"
            ]
          },
          "metadata": {
            "tags": []
          },
          "execution_count": 153
        }
      ]
    },
    {
      "cell_type": "code",
      "metadata": {
        "id": "CVmOWwQvXWP0",
        "colab_type": "code",
        "colab": {
          "base_uri": "https://localhost:8080/",
          "height": 35
        },
        "outputId": "f471ccc7-6849-46e4-90f1-8b1d6d2384ff"
      },
      "source": [
        "X_train, X_test, Y_train, Y_test = train_test_split(X, Y, test_size=0.2,random_state=0)\n",
        "X_train.shape,Y_train.shape,X_test.shape,Y_test.shape"
      ],
      "execution_count": 154,
      "outputs": [
        {
          "output_type": "execute_result",
          "data": {
            "text/plain": [
              "((8012, 28, 28, 3), (8012,), (2003, 28, 28, 3), (2003,))"
            ]
          },
          "metadata": {
            "tags": []
          },
          "execution_count": 154
        }
      ]
    },
    {
      "cell_type": "code",
      "metadata": {
        "id": "DlNensqUXqW1",
        "colab_type": "code",
        "colab": {
          "base_uri": "https://localhost:8080/",
          "height": 35
        },
        "outputId": "7a312b8f-5f1b-4b43-e006-b166a21aec3a"
      },
      "source": [
        "Y_train=to_categorical(Y_train)\n",
        "Y_test=to_categorical(Y_test)\n",
        "Y_train.shape,Y_test.shape"
      ],
      "execution_count": 155,
      "outputs": [
        {
          "output_type": "execute_result",
          "data": {
            "text/plain": [
              "((8012, 7), (2003, 7))"
            ]
          },
          "metadata": {
            "tags": []
          },
          "execution_count": 155
        }
      ]
    },
    {
      "cell_type": "markdown",
      "metadata": {
        "id": "i0PuEQzUX50e",
        "colab_type": "text"
      },
      "source": [
        "# Building and Training CNN"
      ]
    },
    {
      "cell_type": "markdown",
      "metadata": {
        "id": "JYJK15bUdeOd",
        "colab_type": "text"
      },
      "source": [
        "We decided to train 2 models for our project.\n",
        "1. CNN Model from Scratch\n",
        "2. VGG16 using transfer learning.\n",
        "\n",
        "`CNN` is trained by Sher Alam whereas `VGG16` is retrained by Mutahhar bin Muzaffar."
      ]
    },
    {
      "cell_type": "markdown",
      "metadata": {
        "id": "5obtcNl4eZan",
        "colab_type": "text"
      },
      "source": [
        "As you can see, we made a custom architecture for our CNN. We added a BatchNormalization layer to normalize the output of each layer i.e. Normalize `z` in order to improve the performance of our model slightly. "
      ]
    },
    {
      "cell_type": "code",
      "metadata": {
        "id": "c3ffuq5RY5wU",
        "colab_type": "code",
        "colab": {
          "base_uri": "https://localhost:8080/",
          "height": 935
        },
        "outputId": "e0c9395f-57c8-436c-ac9b-d4cc81af4baf"
      },
      "source": [
        "def cancer_detector(input_shape=(28,28,3)):\n",
        "  X_input=Input(shape=input_shape)\n",
        "  X=ZeroPadding2D(3)(X_input)\n",
        "  X=Conv2D(32,3,padding='same')(X)\n",
        "  X=BatchNormalization()(X)\n",
        "  X=Activation('relu')(X)\n",
        "  X=Dropout(0.3)(X)\n",
        "  X=Conv2D(64,3,padding='same')(X)\n",
        "  X=BatchNormalization()(X)\n",
        "  X=Activation('relu')(X)\n",
        "  X=Conv2D(64,3,padding='same')(X)\n",
        "  X=BatchNormalization()(X)\n",
        "  X=Activation('relu')(X)\n",
        "  X=MaxPooling2D(2)(X)\n",
        "  X=Conv2D(128,3,padding='same')(X)\n",
        "  X=BatchNormalization()(X)\n",
        "  X=Activation('relu')(X) \n",
        "  X=MaxPooling2D(2)(X)\n",
        "  X=Dropout(0.2)(X) \n",
        "  X=Flatten()(X)\n",
        "  X=Dense(128,activation='relu')(X)\n",
        "  X=Dense(7,activation='softmax')(X)\n",
        "\n",
        "  model=Model(inputs=X_input,outputs=X)\n",
        "  return model\n",
        "\n",
        "model= cancer_detector()\n",
        "model.summary()\n",
        "\n"
      ],
      "execution_count": 156,
      "outputs": [
        {
          "output_type": "stream",
          "text": [
            "Model: \"functional_21\"\n",
            "_________________________________________________________________\n",
            "Layer (type)                 Output Shape              Param #   \n",
            "=================================================================\n",
            "input_11 (InputLayer)        [(None, 28, 28, 3)]       0         \n",
            "_________________________________________________________________\n",
            "zero_padding2d_6 (ZeroPaddin (None, 34, 34, 3)         0         \n",
            "_________________________________________________________________\n",
            "conv2d_25 (Conv2D)           (None, 34, 34, 32)        896       \n",
            "_________________________________________________________________\n",
            "batch_normalization_25 (Batc (None, 34, 34, 32)        128       \n",
            "_________________________________________________________________\n",
            "activation_25 (Activation)   (None, 34, 34, 32)        0         \n",
            "_________________________________________________________________\n",
            "dropout_18 (Dropout)         (None, 34, 34, 32)        0         \n",
            "_________________________________________________________________\n",
            "conv2d_26 (Conv2D)           (None, 34, 34, 64)        18496     \n",
            "_________________________________________________________________\n",
            "batch_normalization_26 (Batc (None, 34, 34, 64)        256       \n",
            "_________________________________________________________________\n",
            "activation_26 (Activation)   (None, 34, 34, 64)        0         \n",
            "_________________________________________________________________\n",
            "conv2d_27 (Conv2D)           (None, 34, 34, 64)        36928     \n",
            "_________________________________________________________________\n",
            "batch_normalization_27 (Batc (None, 34, 34, 64)        256       \n",
            "_________________________________________________________________\n",
            "activation_27 (Activation)   (None, 34, 34, 64)        0         \n",
            "_________________________________________________________________\n",
            "max_pooling2d_12 (MaxPooling (None, 17, 17, 64)        0         \n",
            "_________________________________________________________________\n",
            "conv2d_28 (Conv2D)           (None, 17, 17, 128)       73856     \n",
            "_________________________________________________________________\n",
            "batch_normalization_28 (Batc (None, 17, 17, 128)       512       \n",
            "_________________________________________________________________\n",
            "activation_28 (Activation)   (None, 17, 17, 128)       0         \n",
            "_________________________________________________________________\n",
            "max_pooling2d_13 (MaxPooling (None, 8, 8, 128)         0         \n",
            "_________________________________________________________________\n",
            "dropout_19 (Dropout)         (None, 8, 8, 128)         0         \n",
            "_________________________________________________________________\n",
            "flatten_6 (Flatten)          (None, 8192)              0         \n",
            "_________________________________________________________________\n",
            "dense_23 (Dense)             (None, 128)               1048704   \n",
            "_________________________________________________________________\n",
            "dense_24 (Dense)             (None, 7)                 903       \n",
            "=================================================================\n",
            "Total params: 1,180,935\n",
            "Trainable params: 1,180,359\n",
            "Non-trainable params: 576\n",
            "_________________________________________________________________\n"
          ],
          "name": "stdout"
        }
      ]
    },
    {
      "cell_type": "code",
      "metadata": {
        "id": "1RpvnkdWapgE",
        "colab_type": "code",
        "colab": {}
      },
      "source": [
        "adam = Adam(lr=0.001, beta_1=0.9, beta_2=0.999, epsilon=None, decay=0.0, amsgrad=False)\n",
        "learning_rate_reduction = ReduceLROnPlateau(monitor='val_accuracy', patience=3, verbose=1, factor=0.5, min_lr=0.00001)\n",
        "model.compile(optimizer=adam, loss='categorical_crossentropy',metrics=['accuracy'])"
      ],
      "execution_count": 157,
      "outputs": []
    },
    {
      "cell_type": "markdown",
      "metadata": {
        "id": "Q6_UZ-M3flOI",
        "colab_type": "text"
      },
      "source": [
        "Due to the limited size of the dataset i.e. 10,000 samples, which is quite less for training a deep learning model, we used `ImageDataGenerator` to use data augmentation approache while training our models."
      ]
    },
    {
      "cell_type": "code",
      "metadata": {
        "id": "-MR7XFTDb-qF",
        "colab_type": "code",
        "colab": {}
      },
      "source": [
        "datagen = ImageDataGenerator(\n",
        "        rotation_range=40,\n",
        "        width_shift_range=0.2,\n",
        "        height_shift_range=0.2,\n",
        "        zoom_range=0.2,\n",
        "        horizontal_flip=True,\n",
        "        fill_mode='nearest')"
      ],
      "execution_count": 158,
      "outputs": []
    },
    {
      "cell_type": "code",
      "metadata": {
        "id": "98Ly-eTRa_ZZ",
        "colab_type": "code",
        "colab": {
          "base_uri": "https://localhost:8080/",
          "height": 1000
        },
        "outputId": "a870d596-026b-446c-8597-c051b35ca58e"
      },
      "source": [
        "history = model.fit_generator(datagen.flow(X_train,Y_train,batch_size=64),steps_per_epoch=X_train.shape[0]//64,epochs=50,validation_data=(X_test,Y_test),verbose=1,callbacks=[learning_rate_reduction])"
      ],
      "execution_count": 159,
      "outputs": [
        {
          "output_type": "stream",
          "text": [
            "Epoch 1/50\n",
            "125/125 [==============================] - 8s 65ms/step - loss: 1.5736 - accuracy: 0.6410 - val_loss: 1.5035 - val_accuracy: 0.6745\n",
            "Epoch 2/50\n",
            "125/125 [==============================] - 8s 61ms/step - loss: 0.8901 - accuracy: 0.6717 - val_loss: 1.4159 - val_accuracy: 0.6196\n",
            "Epoch 3/50\n",
            "125/125 [==============================] - 8s 61ms/step - loss: 0.8548 - accuracy: 0.6812 - val_loss: 1.4128 - val_accuracy: 0.3185\n",
            "Epoch 4/50\n",
            "125/125 [==============================] - ETA: 0s - loss: 0.8458 - accuracy: 0.6926\n",
            "Epoch 00004: ReduceLROnPlateau reducing learning rate to 0.0005000000237487257.\n",
            "125/125 [==============================] - 8s 61ms/step - loss: 0.8458 - accuracy: 0.6926 - val_loss: 1.3312 - val_accuracy: 0.3280\n",
            "Epoch 5/50\n",
            "125/125 [==============================] - 8s 61ms/step - loss: 0.7925 - accuracy: 0.7086 - val_loss: 1.0300 - val_accuracy: 0.6326\n",
            "Epoch 6/50\n",
            "125/125 [==============================] - 8s 61ms/step - loss: 0.7673 - accuracy: 0.7168 - val_loss: 0.8954 - val_accuracy: 0.6560\n",
            "Epoch 7/50\n",
            "125/125 [==============================] - 8s 61ms/step - loss: 0.7570 - accuracy: 0.7238 - val_loss: 0.7861 - val_accuracy: 0.7094\n",
            "Epoch 8/50\n",
            "125/125 [==============================] - 8s 61ms/step - loss: 0.7338 - accuracy: 0.7304 - val_loss: 0.8262 - val_accuracy: 0.6875\n",
            "Epoch 9/50\n",
            "125/125 [==============================] - 8s 61ms/step - loss: 0.7306 - accuracy: 0.7329 - val_loss: 0.7384 - val_accuracy: 0.7319\n",
            "Epoch 10/50\n",
            "125/125 [==============================] - 8s 60ms/step - loss: 0.7127 - accuracy: 0.7352 - val_loss: 0.8046 - val_accuracy: 0.6880\n",
            "Epoch 11/50\n",
            "125/125 [==============================] - 8s 61ms/step - loss: 0.7096 - accuracy: 0.7354 - val_loss: 0.7994 - val_accuracy: 0.6930\n",
            "Epoch 12/50\n",
            "125/125 [==============================] - ETA: 0s - loss: 0.6942 - accuracy: 0.7365\n",
            "Epoch 00012: ReduceLROnPlateau reducing learning rate to 0.0002500000118743628.\n",
            "125/125 [==============================] - 8s 60ms/step - loss: 0.6942 - accuracy: 0.7365 - val_loss: 1.0751 - val_accuracy: 0.5891\n",
            "Epoch 13/50\n",
            "125/125 [==============================] - 8s 61ms/step - loss: 0.6728 - accuracy: 0.7441 - val_loss: 0.7275 - val_accuracy: 0.7319\n",
            "Epoch 14/50\n",
            "125/125 [==============================] - 8s 61ms/step - loss: 0.6635 - accuracy: 0.7505 - val_loss: 0.7572 - val_accuracy: 0.7044\n",
            "Epoch 15/50\n",
            "125/125 [==============================] - ETA: 0s - loss: 0.6569 - accuracy: 0.7540\n",
            "Epoch 00015: ReduceLROnPlateau reducing learning rate to 0.0001250000059371814.\n",
            "125/125 [==============================] - 8s 61ms/step - loss: 0.6569 - accuracy: 0.7540 - val_loss: 0.7120 - val_accuracy: 0.7264\n",
            "Epoch 16/50\n",
            "125/125 [==============================] - 8s 60ms/step - loss: 0.6563 - accuracy: 0.7593 - val_loss: 0.7332 - val_accuracy: 0.7144\n",
            "Epoch 17/50\n",
            "125/125 [==============================] - 8s 61ms/step - loss: 0.6387 - accuracy: 0.7589 - val_loss: 0.7045 - val_accuracy: 0.7414\n",
            "Epoch 18/50\n",
            "125/125 [==============================] - 8s 61ms/step - loss: 0.6390 - accuracy: 0.7563 - val_loss: 0.6948 - val_accuracy: 0.7379\n",
            "Epoch 19/50\n",
            "125/125 [==============================] - 8s 61ms/step - loss: 0.6348 - accuracy: 0.7603 - val_loss: 0.7743 - val_accuracy: 0.7039\n",
            "Epoch 20/50\n",
            "125/125 [==============================] - 8s 61ms/step - loss: 0.6360 - accuracy: 0.7622 - val_loss: 0.6810 - val_accuracy: 0.7469\n",
            "Epoch 21/50\n",
            "125/125 [==============================] - 8s 61ms/step - loss: 0.6265 - accuracy: 0.7630 - val_loss: 0.7950 - val_accuracy: 0.6990\n",
            "Epoch 22/50\n",
            "125/125 [==============================] - 8s 61ms/step - loss: 0.6204 - accuracy: 0.7620 - val_loss: 0.7122 - val_accuracy: 0.7349\n",
            "Epoch 23/50\n",
            "125/125 [==============================] - ETA: 0s - loss: 0.6250 - accuracy: 0.7656\n",
            "Epoch 00023: ReduceLROnPlateau reducing learning rate to 6.25000029685907e-05.\n",
            "125/125 [==============================] - 8s 61ms/step - loss: 0.6250 - accuracy: 0.7656 - val_loss: 0.7154 - val_accuracy: 0.7304\n",
            "Epoch 24/50\n",
            "125/125 [==============================] - 8s 61ms/step - loss: 0.6135 - accuracy: 0.7685 - val_loss: 0.6893 - val_accuracy: 0.7404\n",
            "Epoch 25/50\n",
            "125/125 [==============================] - 8s 60ms/step - loss: 0.6160 - accuracy: 0.7699 - val_loss: 0.7126 - val_accuracy: 0.7314\n",
            "Epoch 26/50\n",
            "125/125 [==============================] - ETA: 0s - loss: 0.6108 - accuracy: 0.7730\n",
            "Epoch 00026: ReduceLROnPlateau reducing learning rate to 3.125000148429535e-05.\n",
            "125/125 [==============================] - 8s 62ms/step - loss: 0.6108 - accuracy: 0.7730 - val_loss: 0.7291 - val_accuracy: 0.7249\n",
            "Epoch 27/50\n",
            "125/125 [==============================] - 8s 62ms/step - loss: 0.6076 - accuracy: 0.7739 - val_loss: 0.7241 - val_accuracy: 0.7279\n",
            "Epoch 28/50\n",
            "125/125 [==============================] - 8s 61ms/step - loss: 0.6005 - accuracy: 0.7763 - val_loss: 0.6997 - val_accuracy: 0.7374\n",
            "Epoch 29/50\n",
            "125/125 [==============================] - 8s 61ms/step - loss: 0.6090 - accuracy: 0.7718 - val_loss: 0.6855 - val_accuracy: 0.7474\n",
            "Epoch 30/50\n",
            "125/125 [==============================] - 8s 61ms/step - loss: 0.5993 - accuracy: 0.7762 - val_loss: 0.6871 - val_accuracy: 0.7454\n",
            "Epoch 31/50\n",
            "125/125 [==============================] - 8s 61ms/step - loss: 0.6044 - accuracy: 0.7710 - val_loss: 0.6861 - val_accuracy: 0.7424\n",
            "Epoch 32/50\n",
            "125/125 [==============================] - ETA: 0s - loss: 0.5956 - accuracy: 0.7757\n",
            "Epoch 00032: ReduceLROnPlateau reducing learning rate to 1.5625000742147677e-05.\n",
            "125/125 [==============================] - 8s 61ms/step - loss: 0.5956 - accuracy: 0.7757 - val_loss: 0.6931 - val_accuracy: 0.7359\n",
            "Epoch 33/50\n",
            "125/125 [==============================] - 8s 61ms/step - loss: 0.5999 - accuracy: 0.7748 - val_loss: 0.7116 - val_accuracy: 0.7269\n",
            "Epoch 34/50\n",
            "125/125 [==============================] - 8s 60ms/step - loss: 0.5973 - accuracy: 0.7773 - val_loss: 0.7148 - val_accuracy: 0.7274\n",
            "Epoch 35/50\n",
            "125/125 [==============================] - ETA: 0s - loss: 0.5988 - accuracy: 0.7764\n",
            "Epoch 00035: ReduceLROnPlateau reducing learning rate to 1e-05.\n",
            "125/125 [==============================] - 8s 61ms/step - loss: 0.5988 - accuracy: 0.7764 - val_loss: 0.6937 - val_accuracy: 0.7424\n",
            "Epoch 36/50\n",
            "125/125 [==============================] - 8s 60ms/step - loss: 0.5997 - accuracy: 0.7730 - val_loss: 0.6901 - val_accuracy: 0.7394\n",
            "Epoch 37/50\n",
            "125/125 [==============================] - 8s 61ms/step - loss: 0.5966 - accuracy: 0.7739 - val_loss: 0.6916 - val_accuracy: 0.7404\n",
            "Epoch 38/50\n",
            "125/125 [==============================] - 8s 60ms/step - loss: 0.5963 - accuracy: 0.7753 - val_loss: 0.6866 - val_accuracy: 0.7434\n",
            "Epoch 39/50\n",
            "125/125 [==============================] - 8s 61ms/step - loss: 0.5940 - accuracy: 0.7737 - val_loss: 0.7012 - val_accuracy: 0.7384\n",
            "Epoch 40/50\n",
            "125/125 [==============================] - 8s 61ms/step - loss: 0.6005 - accuracy: 0.7777 - val_loss: 0.6992 - val_accuracy: 0.7394\n",
            "Epoch 41/50\n",
            "125/125 [==============================] - 8s 61ms/step - loss: 0.5983 - accuracy: 0.7748 - val_loss: 0.6924 - val_accuracy: 0.7409\n",
            "Epoch 42/50\n",
            "125/125 [==============================] - 8s 61ms/step - loss: 0.5983 - accuracy: 0.7735 - val_loss: 0.6853 - val_accuracy: 0.7439\n",
            "Epoch 43/50\n",
            "125/125 [==============================] - 8s 61ms/step - loss: 0.5896 - accuracy: 0.7810 - val_loss: 0.6882 - val_accuracy: 0.7444\n",
            "Epoch 44/50\n",
            "125/125 [==============================] - 8s 61ms/step - loss: 0.5961 - accuracy: 0.7763 - val_loss: 0.6945 - val_accuracy: 0.7399\n",
            "Epoch 45/50\n",
            "125/125 [==============================] - 8s 61ms/step - loss: 0.5926 - accuracy: 0.7798 - val_loss: 0.6852 - val_accuracy: 0.7454\n",
            "Epoch 46/50\n",
            "125/125 [==============================] - 8s 62ms/step - loss: 0.5958 - accuracy: 0.7739 - val_loss: 0.6944 - val_accuracy: 0.7389\n",
            "Epoch 47/50\n",
            "125/125 [==============================] - 8s 61ms/step - loss: 0.6002 - accuracy: 0.7768 - val_loss: 0.7051 - val_accuracy: 0.7329\n",
            "Epoch 48/50\n",
            "125/125 [==============================] - 8s 61ms/step - loss: 0.5939 - accuracy: 0.7778 - val_loss: 0.7003 - val_accuracy: 0.7359\n",
            "Epoch 49/50\n",
            "125/125 [==============================] - 8s 61ms/step - loss: 0.5917 - accuracy: 0.7787 - val_loss: 0.6923 - val_accuracy: 0.7429\n",
            "Epoch 50/50\n",
            "125/125 [==============================] - 8s 61ms/step - loss: 0.5908 - accuracy: 0.7787 - val_loss: 0.7014 - val_accuracy: 0.7364\n"
          ],
          "name": "stdout"
        }
      ]
    },
    {
      "cell_type": "code",
      "metadata": {
        "id": "bzCrMIUubNf7",
        "colab_type": "code",
        "colab": {
          "base_uri": "https://localhost:8080/",
          "height": 54
        },
        "outputId": "06006c6c-85f9-4de9-f926-5016693959c1"
      },
      "source": [
        "lossCNN,scoreCNN = model.evaluate(X_test,Y_test)\n",
        "\n",
        "print(\"Loss for CNN is: {}\\Accuracy for CNN is: {}\".format(lossCNN,scoreCNN))"
      ],
      "execution_count": 199,
      "outputs": [
        {
          "output_type": "stream",
          "text": [
            "63/63 [==============================] - 1s 10ms/step - loss: 0.7014 - accuracy: 0.7364\n",
            "Loss for CNN is: 0.7014190554618835\\Accuracy for CNN is: 0.7363954186439514\n"
          ],
          "name": "stdout"
        }
      ]
    },
    {
      "cell_type": "markdown",
      "metadata": {
        "id": "97YBspFajJUI",
        "colab_type": "text"
      },
      "source": [
        "As you can see above, our model performed with an 77.8% training accuracy and a 73.6% test accuracy. Even though we had a limited dataset, we can say that our CNN performed on bar with human performance."
      ]
    },
    {
      "cell_type": "code",
      "metadata": {
        "id": "TtZj4olqZIvL",
        "colab_type": "code",
        "colab": {
          "base_uri": "https://localhost:8080/",
          "height": 279
        },
        "outputId": "c653974c-40af-4de1-f96e-fd532438a652"
      },
      "source": [
        "plt.plot(history.history['accuracy'])\n",
        "plt.xlabel('Epochs')\n",
        "plt.ylabel('Accuracy')\n",
        "plt.show()"
      ],
      "execution_count": 161,
      "outputs": [
        {
          "output_type": "display_data",
          "data": {
            "image/png": "[encoded data removed]",
            "text/plain": [
              "<Figure size 432x288 with 1 Axes>"
            ]
          },
          "metadata": {
            "tags": [],
            "needs_background": "light"
          }
        }
      ]
    },
    {
      "cell_type": "code",
      "metadata": {
        "id": "knV-b8k3ZMKz",
        "colab_type": "code",
        "colab": {
          "base_uri": "https://localhost:8080/",
          "height": 279
        },
        "outputId": "2ff6477e-1339-4861-f6ff-ac9befb996aa"
      },
      "source": [
        "plt.plot(history.history['loss'])\n",
        "plt.xlabel('Epochs')\n",
        "plt.ylabel('Loss')\n",
        "plt.show()"
      ],
      "execution_count": 162,
      "outputs": [
        {
          "output_type": "display_data",
          "data": {
            "image/png": "[encoded data removed]",
            "text/plain": [
              "<Figure size 432x288 with 1 Axes>"
            ]
          },
          "metadata": {
            "tags": [],
            "needs_background": "light"
          }
        }
      ]
    },
    {
      "cell_type": "code",
      "metadata": {
        "id": "F-7dFxm0kM4M",
        "colab_type": "code",
        "colab": {}
      },
      "source": [
        "accuracy = []\n",
        "accuracy.append({'CNN':scoreCNN})\n",
        "model.save('./modelCNN.h5')"
      ],
      "execution_count": 200,
      "outputs": []
    },
    {
      "cell_type": "markdown",
      "metadata": {
        "id": "EO2tOqROY_NG",
        "colab_type": "text"
      },
      "source": [
        "# Transfer Learning using VGG16"
      ]
    },
    {
      "cell_type": "markdown",
      "metadata": {
        "id": "XkAn05GlqZtZ",
        "colab_type": "text"
      },
      "source": [
        "VGG16 is trained by Mutahhar bin Muzaffar using transfer learning. Our dataset consists of images of shape 28x28 whereas, vgg requires input of much greater size than this. That is why we had to use UpSampling layer of keras to produce an input which is acceptable by VGG16.\n",
        "As you can see, we used the output of the last layer of vgg model i.e. `block5_pool` as the input of our additional 3 Dense layers used for classification of different types of cancer."
      ]
    },
    {
      "cell_type": "code",
      "metadata": {
        "id": "CoCcZ2uGxE-p",
        "colab_type": "code",
        "colab": {}
      },
      "source": [
        "def vgg(input_shape):\n",
        "  x_input=Input(shape=input_shape)\n",
        "  x=UpSampling2D((2,2))(x_input)\n",
        "  vgg=VGG16(input_tensor=x, include_top=False, weights=\"imagenet\")\n",
        "  x = GlobalMaxPooling2D()(vgg.get_layer('block5_pool').output)\n",
        "  x = Dense(512, activation='relu')(x)\n",
        "  x = Dropout(0.2)(x)\n",
        "  x = Dense(7, activation='softmax')(x)\n",
        "  model=Model(x_input,x)\n",
        "  return model\n"
      ],
      "execution_count": 185,
      "outputs": []
    },
    {
      "cell_type": "code",
      "metadata": {
        "id": "qvvVCAjHQmtB",
        "colab_type": "code",
        "colab": {}
      },
      "source": [
        "model_vgg=vgg(input_shape=(28,28,3))"
      ],
      "execution_count": 186,
      "outputs": []
    },
    {
      "cell_type": "code",
      "metadata": {
        "id": "H3l0UMkOROPI",
        "colab_type": "code",
        "colab": {
          "base_uri": "https://localhost:8080/",
          "height": 1000
        },
        "outputId": "b2a9fb4d-4729-4245-d29c-31d847783d71"
      },
      "source": [
        "model_vgg.summary()"
      ],
      "execution_count": 187,
      "outputs": [
        {
          "output_type": "stream",
          "text": [
            "Model: \"functional_27\"\n",
            "_________________________________________________________________\n",
            "Layer (type)                 Output Shape              Param #   \n",
            "=================================================================\n",
            "input_14 (InputLayer)        [(None, 28, 28, 3)]       0         \n",
            "_________________________________________________________________\n",
            "up_sampling2d_6 (UpSampling2 (None, 56, 56, 3)         0         \n",
            "_________________________________________________________________\n",
            "block1_conv1 (Conv2D)        (None, 56, 56, 64)        1792      \n",
            "_________________________________________________________________\n",
            "block1_conv2 (Conv2D)        (None, 56, 56, 64)        36928     \n",
            "_________________________________________________________________\n",
            "block1_pool (MaxPooling2D)   (None, 28, 28, 64)        0         \n",
            "_________________________________________________________________\n",
            "block2_conv1 (Conv2D)        (None, 28, 28, 128)       73856     \n",
            "_________________________________________________________________\n",
            "block2_conv2 (Conv2D)        (None, 28, 28, 128)       147584    \n",
            "_________________________________________________________________\n",
            "block2_pool (MaxPooling2D)   (None, 14, 14, 128)       0         \n",
            "_________________________________________________________________\n",
            "block3_conv1 (Conv2D)        (None, 14, 14, 256)       295168    \n",
            "_________________________________________________________________\n",
            "block3_conv2 (Conv2D)        (None, 14, 14, 256)       590080    \n",
            "_________________________________________________________________\n",
            "block3_conv3 (Conv2D)        (None, 14, 14, 256)       590080    \n",
            "_________________________________________________________________\n",
            "block3_pool (MaxPooling2D)   (None, 7, 7, 256)         0         \n",
            "_________________________________________________________________\n",
            "block4_conv1 (Conv2D)        (None, 7, 7, 512)         1180160   \n",
            "_________________________________________________________________\n",
            "block4_conv2 (Conv2D)        (None, 7, 7, 512)         2359808   \n",
            "_________________________________________________________________\n",
            "block4_conv3 (Conv2D)        (None, 7, 7, 512)         2359808   \n",
            "_________________________________________________________________\n",
            "block4_pool (MaxPooling2D)   (None, 3, 3, 512)         0         \n",
            "_________________________________________________________________\n",
            "block5_conv1 (Conv2D)        (None, 3, 3, 512)         2359808   \n",
            "_________________________________________________________________\n",
            "block5_conv2 (Conv2D)        (None, 3, 3, 512)         2359808   \n",
            "_________________________________________________________________\n",
            "block5_conv3 (Conv2D)        (None, 3, 3, 512)         2359808   \n",
            "_________________________________________________________________\n",
            "block5_pool (MaxPooling2D)   (None, 1, 1, 512)         0         \n",
            "_________________________________________________________________\n",
            "global_max_pooling2d_6 (Glob (None, 512)               0         \n",
            "_________________________________________________________________\n",
            "dense_29 (Dense)             (None, 512)               262656    \n",
            "_________________________________________________________________\n",
            "dropout_22 (Dropout)         (None, 512)               0         \n",
            "_________________________________________________________________\n",
            "dense_30 (Dense)             (None, 7)                 3591      \n",
            "=================================================================\n",
            "Total params: 14,980,935\n",
            "Trainable params: 14,980,935\n",
            "Non-trainable params: 0\n",
            "_________________________________________________________________\n"
          ],
          "name": "stdout"
        }
      ]
    },
    {
      "cell_type": "markdown",
      "metadata": {
        "id": "OvCWQsOz5dhh",
        "colab_type": "text"
      },
      "source": [
        "Here I have set all the layers of vgg except the last 3 dense layers to trainable so that I can train the weights of the last 3 layers to some extent."
      ]
    },
    {
      "cell_type": "code",
      "metadata": {
        "id": "jWR0duR4LRYP",
        "colab_type": "code",
        "colab": {}
      },
      "source": [
        "for layers in model_vgg.layers:\n",
        "  layers.trainable=False\n",
        "for layers in model_vgg.layers[-3:]:\n",
        "   layers.trainable=True"
      ],
      "execution_count": 188,
      "outputs": []
    },
    {
      "cell_type": "code",
      "metadata": {
        "id": "Lo0HNjB2OPFd",
        "colab_type": "code",
        "colab": {
          "base_uri": "https://localhost:8080/",
          "height": 1000
        },
        "outputId": "a3f3a890-62fa-42a7-87a0-0ac0538c198d"
      },
      "source": [
        "model_vgg.summary()"
      ],
      "execution_count": 189,
      "outputs": [
        {
          "output_type": "stream",
          "text": [
            "Model: \"functional_27\"\n",
            "_________________________________________________________________\n",
            "Layer (type)                 Output Shape              Param #   \n",
            "=================================================================\n",
            "input_14 (InputLayer)        [(None, 28, 28, 3)]       0         \n",
            "_________________________________________________________________\n",
            "up_sampling2d_6 (UpSampling2 (None, 56, 56, 3)         0         \n",
            "_________________________________________________________________\n",
            "block1_conv1 (Conv2D)        (None, 56, 56, 64)        1792      \n",
            "_________________________________________________________________\n",
            "block1_conv2 (Conv2D)        (None, 56, 56, 64)        36928     \n",
            "_________________________________________________________________\n",
            "block1_pool (MaxPooling2D)   (None, 28, 28, 64)        0         \n",
            "_________________________________________________________________\n",
            "block2_conv1 (Conv2D)        (None, 28, 28, 128)       73856     \n",
            "_________________________________________________________________\n",
            "block2_conv2 (Conv2D)        (None, 28, 28, 128)       147584    \n",
            "_________________________________________________________________\n",
            "block2_pool (MaxPooling2D)   (None, 14, 14, 128)       0         \n",
            "_________________________________________________________________\n",
            "block3_conv1 (Conv2D)        (None, 14, 14, 256)       295168    \n",
            "_________________________________________________________________\n",
            "block3_conv2 (Conv2D)        (None, 14, 14, 256)       590080    \n",
            "_________________________________________________________________\n",
            "block3_conv3 (Conv2D)        (None, 14, 14, 256)       590080    \n",
            "_________________________________________________________________\n",
            "block3_pool (MaxPooling2D)   (None, 7, 7, 256)         0         \n",
            "_________________________________________________________________\n",
            "block4_conv1 (Conv2D)        (None, 7, 7, 512)         1180160   \n",
            "_________________________________________________________________\n",
            "block4_conv2 (Conv2D)        (None, 7, 7, 512)         2359808   \n",
            "_________________________________________________________________\n",
            "block4_conv3 (Conv2D)        (None, 7, 7, 512)         2359808   \n",
            "_________________________________________________________________\n",
            "block4_pool (MaxPooling2D)   (None, 3, 3, 512)         0         \n",
            "_________________________________________________________________\n",
            "block5_conv1 (Conv2D)        (None, 3, 3, 512)         2359808   \n",
            "_________________________________________________________________\n",
            "block5_conv2 (Conv2D)        (None, 3, 3, 512)         2359808   \n",
            "_________________________________________________________________\n",
            "block5_conv3 (Conv2D)        (None, 3, 3, 512)         2359808   \n",
            "_________________________________________________________________\n",
            "block5_pool (MaxPooling2D)   (None, 1, 1, 512)         0         \n",
            "_________________________________________________________________\n",
            "global_max_pooling2d_6 (Glob (None, 512)               0         \n",
            "_________________________________________________________________\n",
            "dense_29 (Dense)             (None, 512)               262656    \n",
            "_________________________________________________________________\n",
            "dropout_22 (Dropout)         (None, 512)               0         \n",
            "_________________________________________________________________\n",
            "dense_30 (Dense)             (None, 7)                 3591      \n",
            "=================================================================\n",
            "Total params: 14,980,935\n",
            "Trainable params: 266,247\n",
            "Non-trainable params: 14,714,688\n",
            "_________________________________________________________________\n"
          ],
          "name": "stdout"
        }
      ]
    },
    {
      "cell_type": "code",
      "metadata": {
        "id": "1LScw1Cbk2FC",
        "colab_type": "code",
        "colab": {}
      },
      "source": [
        "sgd = SGD(learning_rate=0.001, momentum=0.9)\n",
        "learning_rate_reduction = ReduceLROnPlateau(monitor='val_accuracy', patience=3, verbose=1, factor=0.5, min_lr=0.00001)"
      ],
      "execution_count": 190,
      "outputs": []
    },
    {
      "cell_type": "code",
      "metadata": {
        "id": "j6-lV-VJWZST",
        "colab_type": "code",
        "colab": {
          "base_uri": "https://localhost:8080/",
          "height": 146
        },
        "outputId": "d1aeb09a-4d46-4fbf-cc84-47dc57383b44"
      },
      "source": [
        "model_vgg.compile(optimizer=sgd, loss='categorical_crossentropy',metrics=['accuracy'])\n",
        "model_vgg.fit_generator(datagen.flow(X_train,Y_train,batch_size=64),X_train.shape[0]//64,3,verbose=1)"
      ],
      "execution_count": 191,
      "outputs": [
        {
          "output_type": "stream",
          "text": [
            "Epoch 1/3\n",
            "125/125 [==============================] - 7s 57ms/step - loss: 1.1645 - accuracy: 0.6505\n",
            "Epoch 2/3\n",
            "125/125 [==============================] - 7s 56ms/step - loss: 1.0669 - accuracy: 0.6681\n",
            "Epoch 3/3\n",
            "125/125 [==============================] - 7s 57ms/step - loss: 1.0394 - accuracy: 0.6709\n"
          ],
          "name": "stdout"
        },
        {
          "output_type": "execute_result",
          "data": {
            "text/plain": [
              "<tensorflow.python.keras.callbacks.History at 0x7f7f988be240>"
            ]
          },
          "metadata": {
            "tags": []
          },
          "execution_count": 191
        }
      ]
    },
    {
      "cell_type": "markdown",
      "metadata": {
        "id": "l7_mxrtw7EPJ",
        "colab_type": "text"
      },
      "source": [
        "Now we're training the entirely VGG model on our data for a few epochs in order for the model to fit our data accordingly."
      ]
    },
    {
      "cell_type": "code",
      "metadata": {
        "id": "lq8w9ipfZxsW",
        "colab_type": "code",
        "colab": {
          "base_uri": "https://localhost:8080/",
          "height": 1000
        },
        "outputId": "82c64f77-18db-4bae-83a8-15829d13aaea"
      },
      "source": [
        "for layers in model_vgg.layers[:10]:\n",
        "  layers.trainable=False\n",
        "for layers in model_vgg.layers[10:]:\n",
        "   layers.trainable=True\n",
        "model_vgg.summary()"
      ],
      "execution_count": 192,
      "outputs": [
        {
          "output_type": "stream",
          "text": [
            "Model: \"functional_27\"\n",
            "_________________________________________________________________\n",
            "Layer (type)                 Output Shape              Param #   \n",
            "=================================================================\n",
            "input_14 (InputLayer)        [(None, 28, 28, 3)]       0         \n",
            "_________________________________________________________________\n",
            "up_sampling2d_6 (UpSampling2 (None, 56, 56, 3)         0         \n",
            "_________________________________________________________________\n",
            "block1_conv1 (Conv2D)        (None, 56, 56, 64)        1792      \n",
            "_________________________________________________________________\n",
            "block1_conv2 (Conv2D)        (None, 56, 56, 64)        36928     \n",
            "_________________________________________________________________\n",
            "block1_pool (MaxPooling2D)   (None, 28, 28, 64)        0         \n",
            "_________________________________________________________________\n",
            "block2_conv1 (Conv2D)        (None, 28, 28, 128)       73856     \n",
            "_________________________________________________________________\n",
            "block2_conv2 (Conv2D)        (None, 28, 28, 128)       147584    \n",
            "_________________________________________________________________\n",
            "block2_pool (MaxPooling2D)   (None, 14, 14, 128)       0         \n",
            "_________________________________________________________________\n",
            "block3_conv1 (Conv2D)        (None, 14, 14, 256)       295168    \n",
            "_________________________________________________________________\n",
            "block3_conv2 (Conv2D)        (None, 14, 14, 256)       590080    \n",
            "_________________________________________________________________\n",
            "block3_conv3 (Conv2D)        (None, 14, 14, 256)       590080    \n",
            "_________________________________________________________________\n",
            "block3_pool (MaxPooling2D)   (None, 7, 7, 256)         0         \n",
            "_________________________________________________________________\n",
            "block4_conv1 (Conv2D)        (None, 7, 7, 512)         1180160   \n",
            "_________________________________________________________________\n",
            "block4_conv2 (Conv2D)        (None, 7, 7, 512)         2359808   \n",
            "_________________________________________________________________\n",
            "block4_conv3 (Conv2D)        (None, 7, 7, 512)         2359808   \n",
            "_________________________________________________________________\n",
            "block4_pool (MaxPooling2D)   (None, 3, 3, 512)         0         \n",
            "_________________________________________________________________\n",
            "block5_conv1 (Conv2D)        (None, 3, 3, 512)         2359808   \n",
            "_________________________________________________________________\n",
            "block5_conv2 (Conv2D)        (None, 3, 3, 512)         2359808   \n",
            "_________________________________________________________________\n",
            "block5_conv3 (Conv2D)        (None, 3, 3, 512)         2359808   \n",
            "_________________________________________________________________\n",
            "block5_pool (MaxPooling2D)   (None, 1, 1, 512)         0         \n",
            "_________________________________________________________________\n",
            "global_max_pooling2d_6 (Glob (None, 512)               0         \n",
            "_________________________________________________________________\n",
            "dense_29 (Dense)             (None, 512)               262656    \n",
            "_________________________________________________________________\n",
            "dropout_22 (Dropout)         (None, 512)               0         \n",
            "_________________________________________________________________\n",
            "dense_30 (Dense)             (None, 7)                 3591      \n",
            "=================================================================\n",
            "Total params: 14,980,935\n",
            "Trainable params: 13,835,527\n",
            "Non-trainable params: 1,145,408\n",
            "_________________________________________________________________\n"
          ],
          "name": "stdout"
        }
      ]
    },
    {
      "cell_type": "code",
      "metadata": {
        "id": "-o7s4X7RZ6mX",
        "colab_type": "code",
        "colab": {
          "base_uri": "https://localhost:8080/",
          "height": 1000
        },
        "outputId": "c6385346-8f7c-4811-8653-32ce56eef464"
      },
      "source": [
        "model_vgg.compile(optimizer=sgd, loss='categorical_crossentropy',metrics=['accuracy'])\n",
        "history = model_vgg.fit_generator(datagen.flow(X_train,Y_train,batch_size=64),X_train.shape[0]//64,epochs=30,verbose=1,validation_data=(X_test,Y_test),callbacks=[learning_rate_reduction])"
      ],
      "execution_count": 193,
      "outputs": [
        {
          "output_type": "stream",
          "text": [
            "Epoch 1/30\n",
            "125/125 [==============================] - 14s 109ms/step - loss: 0.9043 - accuracy: 0.6964 - val_loss: 0.8653 - val_accuracy: 0.6920\n",
            "Epoch 2/30\n",
            "125/125 [==============================] - 13s 108ms/step - loss: 0.8063 - accuracy: 0.7124 - val_loss: 0.7476 - val_accuracy: 0.7244\n",
            "Epoch 3/30\n",
            "125/125 [==============================] - 13s 108ms/step - loss: 0.7438 - accuracy: 0.7300 - val_loss: 0.8906 - val_accuracy: 0.6430\n",
            "Epoch 4/30\n",
            "125/125 [==============================] - 14s 109ms/step - loss: 0.7286 - accuracy: 0.7354 - val_loss: 0.8173 - val_accuracy: 0.6940\n",
            "Epoch 5/30\n",
            "125/125 [==============================] - 14s 108ms/step - loss: 0.6918 - accuracy: 0.7519 - val_loss: 0.7094 - val_accuracy: 0.7254\n",
            "Epoch 6/30\n",
            "125/125 [==============================] - 13s 108ms/step - loss: 0.6720 - accuracy: 0.7529 - val_loss: 0.6771 - val_accuracy: 0.7544\n",
            "Epoch 7/30\n",
            "125/125 [==============================] - 13s 107ms/step - loss: 0.6534 - accuracy: 0.7620 - val_loss: 0.6864 - val_accuracy: 0.7414\n",
            "Epoch 8/30\n",
            "125/125 [==============================] - 13s 108ms/step - loss: 0.6564 - accuracy: 0.7591 - val_loss: 0.8265 - val_accuracy: 0.6805\n",
            "Epoch 9/30\n",
            "125/125 [==============================] - ETA: 0s - loss: 0.6394 - accuracy: 0.7669\n",
            "Epoch 00009: ReduceLROnPlateau reducing learning rate to 0.0005000000237487257.\n",
            "125/125 [==============================] - 13s 108ms/step - loss: 0.6394 - accuracy: 0.7669 - val_loss: 0.7646 - val_accuracy: 0.7064\n",
            "Epoch 10/30\n",
            "125/125 [==============================] - 14s 109ms/step - loss: 0.6066 - accuracy: 0.7747 - val_loss: 0.6789 - val_accuracy: 0.7434\n",
            "Epoch 11/30\n",
            "125/125 [==============================] - 13s 108ms/step - loss: 0.5854 - accuracy: 0.7828 - val_loss: 0.6199 - val_accuracy: 0.7748\n",
            "Epoch 12/30\n",
            "125/125 [==============================] - 13s 108ms/step - loss: 0.5845 - accuracy: 0.7827 - val_loss: 0.6521 - val_accuracy: 0.7549\n",
            "Epoch 13/30\n",
            "125/125 [==============================] - 13s 108ms/step - loss: 0.5747 - accuracy: 0.7854 - val_loss: 0.6452 - val_accuracy: 0.7549\n",
            "Epoch 14/30\n",
            "125/125 [==============================] - ETA: 0s - loss: 0.5765 - accuracy: 0.7847\n",
            "Epoch 00014: ReduceLROnPlateau reducing learning rate to 0.0002500000118743628.\n",
            "125/125 [==============================] - 14s 108ms/step - loss: 0.5765 - accuracy: 0.7847 - val_loss: 0.6442 - val_accuracy: 0.7584\n",
            "Epoch 15/30\n",
            "125/125 [==============================] - 13s 108ms/step - loss: 0.5477 - accuracy: 0.7944 - val_loss: 0.6210 - val_accuracy: 0.7629\n",
            "Epoch 16/30\n",
            "125/125 [==============================] - 13s 108ms/step - loss: 0.5414 - accuracy: 0.7973 - val_loss: 0.6303 - val_accuracy: 0.7609\n",
            "Epoch 17/30\n",
            "125/125 [==============================] - ETA: 0s - loss: 0.5381 - accuracy: 0.7998\n",
            "Epoch 00017: ReduceLROnPlateau reducing learning rate to 0.0001250000059371814.\n",
            "125/125 [==============================] - 13s 108ms/step - loss: 0.5381 - accuracy: 0.7998 - val_loss: 0.6239 - val_accuracy: 0.7659\n",
            "Epoch 18/30\n",
            "125/125 [==============================] - 14s 108ms/step - loss: 0.5200 - accuracy: 0.8072 - val_loss: 0.6081 - val_accuracy: 0.7683\n",
            "Epoch 19/30\n",
            "125/125 [==============================] - 13s 108ms/step - loss: 0.5152 - accuracy: 0.8130 - val_loss: 0.6392 - val_accuracy: 0.7524\n",
            "Epoch 20/30\n",
            "125/125 [==============================] - ETA: 0s - loss: 0.5181 - accuracy: 0.8045\n",
            "Epoch 00020: ReduceLROnPlateau reducing learning rate to 6.25000029685907e-05.\n",
            "125/125 [==============================] - 13s 108ms/step - loss: 0.5181 - accuracy: 0.8045 - val_loss: 0.6347 - val_accuracy: 0.7499\n",
            "Epoch 21/30\n",
            "125/125 [==============================] - 13s 108ms/step - loss: 0.4971 - accuracy: 0.8157 - val_loss: 0.5991 - val_accuracy: 0.7758\n",
            "Epoch 22/30\n",
            "125/125 [==============================] - 13s 108ms/step - loss: 0.5081 - accuracy: 0.8132 - val_loss: 0.6372 - val_accuracy: 0.7504\n",
            "Epoch 23/30\n",
            "125/125 [==============================] - 14s 108ms/step - loss: 0.5066 - accuracy: 0.8162 - val_loss: 0.6448 - val_accuracy: 0.7449\n",
            "Epoch 24/30\n",
            "125/125 [==============================] - ETA: 0s - loss: 0.5003 - accuracy: 0.8135\n",
            "Epoch 00024: ReduceLROnPlateau reducing learning rate to 3.125000148429535e-05.\n",
            "125/125 [==============================] - 13s 108ms/step - loss: 0.5003 - accuracy: 0.8135 - val_loss: 0.6171 - val_accuracy: 0.7599\n",
            "Epoch 25/30\n",
            "125/125 [==============================] - 14s 108ms/step - loss: 0.5006 - accuracy: 0.8135 - val_loss: 0.6286 - val_accuracy: 0.7544\n",
            "Epoch 26/30\n",
            "125/125 [==============================] - 14s 109ms/step - loss: 0.4975 - accuracy: 0.8132 - val_loss: 0.6076 - val_accuracy: 0.7673\n",
            "Epoch 27/30\n",
            "125/125 [==============================] - ETA: 0s - loss: 0.5033 - accuracy: 0.8133\n",
            "Epoch 00027: ReduceLROnPlateau reducing learning rate to 1.5625000742147677e-05.\n",
            "125/125 [==============================] - 14s 109ms/step - loss: 0.5033 - accuracy: 0.8133 - val_loss: 0.6316 - val_accuracy: 0.7544\n",
            "Epoch 28/30\n",
            "125/125 [==============================] - 13s 108ms/step - loss: 0.4921 - accuracy: 0.8167 - val_loss: 0.6183 - val_accuracy: 0.7594\n",
            "Epoch 29/30\n",
            "125/125 [==============================] - 14s 108ms/step - loss: 0.4925 - accuracy: 0.8149 - val_loss: 0.6197 - val_accuracy: 0.7604\n",
            "Epoch 30/30\n",
            "125/125 [==============================] - ETA: 0s - loss: 0.4926 - accuracy: 0.8158\n",
            "Epoch 00030: ReduceLROnPlateau reducing learning rate to 1e-05.\n",
            "125/125 [==============================] - 14s 108ms/step - loss: 0.4926 - accuracy: 0.8158 - val_loss: 0.6211 - val_accuracy: 0.7614\n"
          ],
          "name": "stdout"
        }
      ]
    },
    {
      "cell_type": "code",
      "metadata": {
        "id": "NzwFdbIYdbJN",
        "colab_type": "code",
        "colab": {
          "base_uri": "https://localhost:8080/",
          "height": 72
        },
        "outputId": "4af84041-5eab-4b29-ba53-a020dcb09c17"
      },
      "source": [
        "lossVGG,scoreVGG = model_vgg.evaluate(X_test,Y_test,verbose=1)\n",
        "print(\"Loss for VGG is: {}\\nAccuracy for VGG is: {}\".format(lossVGG,scoreVGG))"
      ],
      "execution_count": 201,
      "outputs": [
        {
          "output_type": "stream",
          "text": [
            "63/63 [==============================] - 2s 31ms/step - loss: 0.6211 - accuracy: 0.7614\n",
            "Loss for VGG is: 0.6210879683494568\n",
            "Accuracy for VGG is: 0.7613579630851746\n"
          ],
          "name": "stdout"
        }
      ]
    },
    {
      "cell_type": "markdown",
      "metadata": {
        "id": "4HFky-ZS-jd2",
        "colab_type": "text"
      },
      "source": [
        "As you can see, the VGG16 gave a training accuracy of 81.5% as well as a testing accuracy of 76.14%. Turns out that ML model if given sufficient dataset, can even perform better than average humance performance."
      ]
    },
    {
      "cell_type": "code",
      "metadata": {
        "id": "HJtrFQLfaH9B",
        "colab_type": "code",
        "colab": {
          "base_uri": "https://localhost:8080/",
          "height": 279
        },
        "outputId": "ef842c13-9103-44b7-e452-5e4b680cce5c"
      },
      "source": [
        "plt.plot(history.history['accuracy'])\n",
        "plt.xlabel('Epochs')\n",
        "plt.ylabel('Accuracy')\n",
        "plt.show()"
      ],
      "execution_count": 195,
      "outputs": [
        {
          "output_type": "display_data",
          "data": {
            "image/png": "[encoded data removed]",
            "text/plain": [
              "<Figure size 432x288 with 1 Axes>"
            ]
          },
          "metadata": {
            "tags": [],
            "needs_background": "light"
          }
        }
      ]
    },
    {
      "cell_type": "code",
      "metadata": {
        "id": "p7kgcmYRaTW2",
        "colab_type": "code",
        "colab": {
          "base_uri": "https://localhost:8080/",
          "height": 279
        },
        "outputId": "68b2b999-798f-4966-d7f4-4f3992c704e5"
      },
      "source": [
        "plt.plot(history.history['loss'])\n",
        "plt.xlabel('Epochs')\n",
        "plt.ylabel('Loss')\n",
        "plt.show()"
      ],
      "execution_count": 196,
      "outputs": [
        {
          "output_type": "display_data",
          "data": {
            "image/png": "[encoded data removed]",
            "text/plain": [
              "<Figure size 432x288 with 1 Axes>"
            ]
          },
          "metadata": {
            "tags": [],
            "needs_background": "light"
          }
        }
      ]
    },
    {
      "cell_type": "code",
      "metadata": {
        "id": "piZ4HqCSkInY",
        "colab_type": "code",
        "colab": {}
      },
      "source": [
        "accuracy.append({'VGG':scoreVGG})\n",
        "model_vgg.save('modelVGG.h5')"
      ],
      "execution_count": 202,
      "outputs": []
    },
    {
      "cell_type": "code",
      "metadata": {
        "id": "jw4HamJCDw4t",
        "colab_type": "code",
        "colab": {}
      },
      "source": [
        "import json\n",
        "with open('./accuracies.json','w') as f:\n",
        "    json.dump(accuracy,f)"
      ],
      "execution_count": 203,
      "outputs": []
    },
    {
      "cell_type": "markdown",
      "metadata": {
        "id": "fe3vIFu0aV1o",
        "colab_type": "text"
      },
      "source": [
        "#GUI\n",
        "---\n",
        "GUI is produced by Mutahhar bin Muzaffar and is demonstrated in the video."
      ]
    },
    {
      "cell_type": "code",
      "metadata": {
        "id": "3VAGvRuK_Wlc",
        "colab_type": "code",
        "colab": {}
      },
      "source": [
        ""
      ],
      "execution_count": 177,
      "outputs": []
    }
  ]
}